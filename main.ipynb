{
 "cells": [
  {
   "cell_type": "markdown",
   "metadata": {},
   "source": [
    "# Final project"
   ]
  },
  {
   "cell_type": "code",
   "execution_count": 2,
   "metadata": {},
   "outputs": [],
   "source": [
    "import pandas as pd\n",
    "import numpy as np\n",
    "from selenium import webdriver\n",
    "from selenium.webdriver.firefox.service import Service\n",
    "from selenium.webdriver import Firefox\n",
    "import time\n",
    "from datetime import datetime\n",
    "from jdatetime import datetime as jdatetime_datetime\n"
   ]
  },
  {
   "cell_type": "code",
   "execution_count": 25,
   "metadata": {},
   "outputs": [],
   "source": [
    "def isToday(xpath):\n",
    "    div_element = driver.find_element_by_xpath(xpath)\n",
    "    # Extract the inner HTML value of the div element\n",
    "    inner_html = div_element.get_attribute(\"innerHTML\")\n",
    "    # Convert the inner HTML string to a Shamsi datetime object\n",
    "    div_date = jdatetime_datetime.strptime(inner_html, \"%Y/%m/%d\")\n",
    "    # Get the current Shamsi date and time\n",
    "    now = jdatetime_datetime.now()\n",
    "    # Extract only the day and month components from the div date and the current date\n",
    "    div_date_day_month = div_date.strftime(\"%d/%m\")\n",
    "    now_day_month = now.strftime(\"%d/%m\")\n",
    "    # Compare the day and month of the div date with the current date\n",
    "    if div_date_day_month == now_day_month:\n",
    "        return True\n",
    "    else:\n",
    "        return False"
   ]
  },
  {
   "cell_type": "markdown",
   "metadata": {},
   "source": [
    "### Senario1: give code from dining.sbu.ac.ir"
   ]
  },
  {
   "cell_type": "code",
   "execution_count": 46,
   "metadata": {},
   "outputs": [
    {
     "name": "stderr",
     "output_type": "stream",
     "text": [
      "/var/folders/bf/9616ns414yg2qn2p8czl2sr00000gn/T/ipykernel_34437/2297084904.py:10: DeprecationWarning: find_element_by_* commands are deprecated. Please use find_element() instead\n",
      "  driver.find_element_by_xpath('//*[@id=\"username\"]').send_keys('98243054')\n",
      "/var/folders/bf/9616ns414yg2qn2p8czl2sr00000gn/T/ipykernel_34437/2297084904.py:12: DeprecationWarning: find_element_by_* commands are deprecated. Please use find_element() instead\n",
      "  driver.find_element_by_xpath('//*[@id=\"password\"]').send_keys('0023909102')\n",
      "/var/folders/bf/9616ns414yg2qn2p8czl2sr00000gn/T/ipykernel_34437/2297084904.py:14: DeprecationWarning: find_element_by_* commands are deprecated. Please use find_element() instead\n",
      "  driver.find_element_by_xpath('//*[@id=\"login_btn_submit\"]').click()\n",
      "/var/folders/bf/9616ns414yg2qn2p8czl2sr00000gn/T/ipykernel_34437/2297084904.py:19: DeprecationWarning: find_element_by_* commands are deprecated. Please use find_element() instead\n",
      "  driver.find_element_by_xpath(\n",
      "/var/folders/bf/9616ns414yg2qn2p8czl2sr00000gn/T/ipykernel_34437/2297084904.py:22: DeprecationWarning: find_element_by_* commands are deprecated. Please use find_element() instead\n",
      "  driver.find_element_by_xpath('//*[@id=\"selectself_selfListId\"]').click()\n",
      "/var/folders/bf/9616ns414yg2qn2p8czl2sr00000gn/T/ipykernel_34437/2297084904.py:24: DeprecationWarning: find_element_by_* commands are deprecated. Please use find_element() instead\n",
      "  driver.find_element_by_xpath(\n",
      "/var/folders/bf/9616ns414yg2qn2p8czl2sr00000gn/T/ipykernel_34437/2297084904.py:27: DeprecationWarning: find_element_by_* commands are deprecated. Please use find_element() instead\n",
      "  driver.find_element_by_xpath(\n",
      "/var/folders/bf/9616ns414yg2qn2p8czl2sr00000gn/T/ipykernel_34437/2249815999.py:2: DeprecationWarning: find_element_by_* commands are deprecated. Please use find_element() instead\n",
      "  div_element = driver.find_element_by_xpath(xpath)\n",
      "/var/folders/bf/9616ns414yg2qn2p8czl2sr00000gn/T/ipykernel_34437/2297084904.py:45: DeprecationWarning: find_element_by_* commands are deprecated. Please use find_element() instead\n",
      "  driver.find_element_by_xpath(checkbox_xpath).click()\n",
      "/var/folders/bf/9616ns414yg2qn2p8czl2sr00000gn/T/ipykernel_34437/2297084904.py:47: DeprecationWarning: find_element_by_* commands are deprecated. Please use find_element() instead\n",
      "  driver.find_element_by_xpath('//*[@id=\"doReservBtn\"]').click()\n",
      "/var/folders/bf/9616ns414yg2qn2p8czl2sr00000gn/T/ipykernel_34437/2297084904.py:49: DeprecationWarning: find_element_by_* commands are deprecated. Please use find_element() instead\n",
      "  driver.find_element_by_xpath('/html/body/div[2]/div[2]/div/ul/li[1]/a').click()\n",
      "/var/folders/bf/9616ns414yg2qn2p8czl2sr00000gn/T/ipykernel_34437/2297084904.py:51: DeprecationWarning: find_element_by_* commands are deprecated. Please use find_element() instead\n",
      "  driver.find_element_by_xpath('/html/body/div[2]/div[4]/div[1]/div/div/div[2]/div/div/div/div[1]/div/div[4]/a').click()\n"
     ]
    }
   ],
   "source": [
    "path_to_geckodriver = '/Users/ngn/geckodriver'\n",
    "service = Service(path_to_geckodriver)\n",
    "driver = Firefox(service=service)\n",
    "\n",
    "# navigate to dining webpage\n",
    "driver.get('https://dining.sbu.ac.ir/index.rose')\n",
    "time.sleep(2)\n",
    "\n",
    "# Enter username\n",
    "driver.find_element_by_xpath('//*[@id=\"username\"]').send_keys('98243054')\n",
    "# Enter password\n",
    "driver.find_element_by_xpath('//*[@id=\"password\"]').send_keys('0023909102')\n",
    "# submit\n",
    "driver.find_element_by_xpath('//*[@id=\"login_btn_submit\"]').click()\n",
    "time.sleep(3)\n",
    "\n",
    "# Trasfer to dashboard\n",
    "# Food reservation\n",
    "driver.find_element_by_xpath(\n",
    "    '/html/body/div[2]/div[4]/div[1]/div/div/div[2]/div/div/div/div[1]/div/div[1]/span').click()\n",
    "# Choose resturant\n",
    "driver.find_element_by_xpath('//*[@id=\"selectself_selfListId\"]').click()\n",
    "# Choose mokamel\n",
    "driver.find_element_by_xpath(\n",
    "    '/html/body/div[6]/div[2]/div/table/tbody/tr[2]/td/div/select/option[4]').click()\n",
    "# submit\n",
    "driver.find_element_by_xpath(\n",
    "    '/html/body/div[6]/div[2]/div/table/tbody/tr[3]/td/input').click()\n",
    "\n",
    "# Find today\n",
    "# Find the div element with the inner HTML tody\n",
    "dates_xpaths = ['/html/body/div[2]/div[4]/div[1]/div/div/div[2]/form[1]/table/tbody/tr/td/table/tbody/tr[2]/td/table/tbody/tr[2]/td[1]/div',\n",
    "                '/html/body/div[2]/div[4]/div[1]/div/div/div[2]/form[1]/table/tbody/tr/td/table/tbody/tr[2]/td/table/tbody/tr[3]/td[1]/div',\n",
    "                '/html/body/div[2]/div[4]/div[1]/div/div/div[2]/form[1]/table/tbody/tr/td/table/tbody/tr[2]/td/table/tbody/tr[4]/td[1]/div',\n",
    "                '/html/body/div[2]/div[4]/div[1]/div/div/div[2]/form[1]/table/tbody/tr/td/table/tbody/tr[2]/td/table/tbody/tr[5]/td[1]/div',\n",
    "                '/html/body/div[2]/div[4]/div[1]/div/div/div[2]/form[1]/table/tbody/tr/td/table/tbody/tr[2]/td/table/tbody/tr[6]/td[1]/div']\n",
    "\n",
    "checkbox_xpath = \"\"\n",
    "for i in range(len(dates_xpaths)):\n",
    "    if isToday(dates_xpaths[i]):\n",
    "        checkbox_xpath = '//*[@id=\"userWeekReserves.selected'+str(i)+'\"]'\n",
    "        break\n",
    "\n",
    "# Checked today\n",
    "driver.find_element_by_xpath(checkbox_xpath).click()\n",
    "# Submit \n",
    "driver.find_element_by_xpath('//*[@id=\"doReservBtn\"]').click()\n",
    "# Go HomePage\n",
    "driver.find_element_by_xpath('/html/body/div[2]/div[2]/div/ul/li[1]/a').click()\n",
    "# Get code\n",
    "driver.find_element_by_xpath('/html/body/div[2]/div[4]/div[1]/div/div/div[2]/div/div/div/div[1]/div/div[4]/a').click()\n",
    "\n",
    "time.sleep(5)\n",
    "driver.quit()"
   ]
  },
  {
   "cell_type": "code",
   "execution_count": null,
   "metadata": {},
   "outputs": [],
   "source": []
  }
 ],
 "metadata": {
  "kernelspec": {
   "display_name": "Python 3.8.5 64-bit",
   "language": "python",
   "name": "python3"
  },
  "language_info": {
   "codemirror_mode": {
    "name": "ipython",
    "version": 3
   },
   "file_extension": ".py",
   "mimetype": "text/x-python",
   "name": "python",
   "nbconvert_exporter": "python",
   "pygments_lexer": "ipython3",
   "version": "3.8.5"
  },
  "orig_nbformat": 4,
  "vscode": {
   "interpreter": {
    "hash": "0adcc2737ebf6a4a119f135174df96668767fca1ef1112612db5ecadf2b6d608"
   }
  }
 },
 "nbformat": 4,
 "nbformat_minor": 2
}
