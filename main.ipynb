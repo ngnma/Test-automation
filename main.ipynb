{
 "cells": [
  {
   "cell_type": "markdown",
   "metadata": {},
   "source": [
    "# Final project"
   ]
  },
  {
   "cell_type": "code",
   "execution_count": 1,
   "metadata": {},
   "outputs": [],
   "source": [
    "import pandas as pd\n",
    "import numpy as np\n",
    "from selenium import webdriver\n",
    "from selenium.webdriver.firefox.service import Service\n",
    "from selenium.webdriver import Firefox\n",
    "import time\n",
    "from datetime import datetime\n",
    "from jdatetime import datetime as jdatetime_datetime\n",
    "import pyperclip\n",
    "from selenium.webdriver.common.action_chains import ActionChains\n",
    "from selenium.webdriver.common.by import By\n",
    "from selenium.webdriver.support.ui import WebDriverWait\n",
    "from selenium.webdriver.support import expected_conditions as EC\n",
    "from selenium.webdriver.common.keys import Keys\n",
    "\n",
    "\n"
   ]
  },
  {
   "cell_type": "code",
   "execution_count": 2,
   "metadata": {},
   "outputs": [],
   "source": [
    "def isToday(xpath):\n",
    "    div_element = driver.find_element_by_xpath(xpath)\n",
    "    # Extract the inner HTML value of the div element\n",
    "    inner_html = div_element.get_attribute(\"innerHTML\")\n",
    "    # Convert the inner HTML string to a Shamsi datetime object\n",
    "    div_date = jdatetime_datetime.strptime(inner_html, \"%Y/%m/%d\")\n",
    "    # Get the current Shamsi date and time\n",
    "    now = jdatetime_datetime.now()\n",
    "    # Extract only the day and month components from the div date and the current date\n",
    "    div_date_day_month = div_date.strftime(\"%d/%m\")\n",
    "    now_day_month = now.strftime(\"%d/%m\")\n",
    "    # Compare the day and month of the div date with the current date\n",
    "    if div_date_day_month == now_day_month:\n",
    "        return True\n",
    "    else:\n",
    "        return False"
   ]
  },
  {
   "cell_type": "markdown",
   "metadata": {},
   "source": [
    "# Senario1: give code from dining.sbu.ac.ir"
   ]
  },
  {
   "cell_type": "code",
   "execution_count": 5,
   "metadata": {},
   "outputs": [
    {
     "name": "stderr",
     "output_type": "stream",
     "text": [
      "/var/folders/bf/9616ns414yg2qn2p8czl2sr00000gn/T/ipykernel_6803/1994802065.py:10: DeprecationWarning: find_element_by_* commands are deprecated. Please use find_element() instead\n",
      "  driver.find_element_by_xpath('//*[@id=\"username\"]').send_keys('98243054')\n",
      "/var/folders/bf/9616ns414yg2qn2p8czl2sr00000gn/T/ipykernel_6803/1994802065.py:12: DeprecationWarning: find_element_by_* commands are deprecated. Please use find_element() instead\n",
      "  driver.find_element_by_xpath('//*[@id=\"password\"]').send_keys('0023909102')\n",
      "/var/folders/bf/9616ns414yg2qn2p8czl2sr00000gn/T/ipykernel_6803/1994802065.py:14: DeprecationWarning: find_element_by_* commands are deprecated. Please use find_element() instead\n",
      "  driver.find_element_by_xpath('//*[@id=\"login_btn_submit\"]').click()\n",
      "/var/folders/bf/9616ns414yg2qn2p8czl2sr00000gn/T/ipykernel_6803/1994802065.py:19: DeprecationWarning: find_element_by_* commands are deprecated. Please use find_element() instead\n",
      "  driver.find_element_by_xpath(\n",
      "/var/folders/bf/9616ns414yg2qn2p8czl2sr00000gn/T/ipykernel_6803/1994802065.py:22: DeprecationWarning: find_element_by_* commands are deprecated. Please use find_element() instead\n",
      "  driver.find_element_by_xpath('//*[@id=\"selectself_selfListId\"]').click()\n",
      "/var/folders/bf/9616ns414yg2qn2p8czl2sr00000gn/T/ipykernel_6803/1994802065.py:24: DeprecationWarning: find_element_by_* commands are deprecated. Please use find_element() instead\n",
      "  driver.find_element_by_xpath(\n",
      "/var/folders/bf/9616ns414yg2qn2p8czl2sr00000gn/T/ipykernel_6803/1994802065.py:27: DeprecationWarning: find_element_by_* commands are deprecated. Please use find_element() instead\n",
      "  driver.find_element_by_xpath(\n",
      "/var/folders/bf/9616ns414yg2qn2p8czl2sr00000gn/T/ipykernel_6803/3369408117.py:2: DeprecationWarning: find_element_by_* commands are deprecated. Please use find_element() instead\n",
      "  div_element = driver.find_element_by_xpath(xpath)\n",
      "/var/folders/bf/9616ns414yg2qn2p8czl2sr00000gn/T/ipykernel_6803/1994802065.py:46: DeprecationWarning: find_element_by_* commands are deprecated. Please use find_element() instead\n",
      "  driver.find_element_by_xpath(checkbox_xpath).click()\n"
     ]
    },
    {
     "name": "stdout",
     "output_type": "stream",
     "text": [
      "Today you can not reserve food.resturant is closed.\n"
     ]
    }
   ],
   "source": [
    "path_to_geckodriver = '/Users/ngn/geckodriver'\n",
    "service = Service(path_to_geckodriver)\n",
    "driver = Firefox(service=service)\n",
    "\n",
    "# navigate to dining webpage\n",
    "driver.get('https://dining.sbu.ac.ir/index.rose')\n",
    "time.sleep(2)\n",
    "\n",
    "# Enter username\n",
    "driver.find_element_by_xpath('//*[@id=\"username\"]').send_keys('98243054')\n",
    "# Enter password\n",
    "driver.find_element_by_xpath('//*[@id=\"password\"]').send_keys('0023909102')\n",
    "# submit\n",
    "driver.find_element_by_xpath('//*[@id=\"login_btn_submit\"]').click()\n",
    "time.sleep(3)\n",
    "\n",
    "# Trasfer to dashboard\n",
    "# Food reservation\n",
    "driver.find_element_by_xpath(\n",
    "    '/html/body/div[2]/div[4]/div[1]/div/div/div[2]/div/div/div/div[1]/div/div[1]/span').click()\n",
    "# Choose resturant\n",
    "driver.find_element_by_xpath('//*[@id=\"selectself_selfListId\"]').click()\n",
    "# Choose mokamel\n",
    "driver.find_element_by_xpath(\n",
    "    '/html/body/div[6]/div[2]/div/table/tbody/tr[2]/td/div/select/option[4]').click()\n",
    "# submit\n",
    "driver.find_element_by_xpath(\n",
    "    '/html/body/div[6]/div[2]/div/table/tbody/tr[3]/td/input').click()\n",
    "\n",
    "# Find today\n",
    "# Find the div element with the inner HTML tody\n",
    "dates_xpaths = ['/html/body/div[2]/div[4]/div[1]/div/div/div[2]/form[1]/table/tbody/tr/td/table/tbody/tr[2]/td/table/tbody/tr[2]/td[1]/div',\n",
    "                '/html/body/div[2]/div[4]/div[1]/div/div/div[2]/form[1]/table/tbody/tr/td/table/tbody/tr[2]/td/table/tbody/tr[3]/td[1]/div',\n",
    "                '/html/body/div[2]/div[4]/div[1]/div/div/div[2]/form[1]/table/tbody/tr/td/table/tbody/tr[2]/td/table/tbody/tr[4]/td[1]/div',\n",
    "                '/html/body/div[2]/div[4]/div[1]/div/div/div[2]/form[1]/table/tbody/tr/td/table/tbody/tr[2]/td/table/tbody/tr[5]/td[1]/div',\n",
    "                '/html/body/div[2]/div[4]/div[1]/div/div/div[2]/form[1]/table/tbody/tr/td/table/tbody/tr[2]/td/table/tbody/tr[6]/td[1]/div']\n",
    "\n",
    "checkbox_xpath = \"\"\n",
    "for i in range(len(dates_xpaths)):\n",
    "    if isToday(dates_xpaths[i]):\n",
    "        checkbox_xpath = '//*[@id=\"userWeekReserves.selected'+str(i)+'\"]'\n",
    "        break\n",
    "\n",
    "try:\n",
    "    # Checked today\n",
    "    driver.find_element_by_xpath(checkbox_xpath).click()\n",
    "    # Submit \n",
    "    driver.find_element_by_xpath('//*[@id=\"doReservBtn\"]').click()\n",
    "    # Go HomePage\n",
    "    driver.find_element_by_xpath('/html/body/div[2]/div[2]/div/ul/li[1]/a').click()\n",
    "    # Get code\n",
    "    driver.find_element_by_xpath('/html/body/div[2]/div[4]/div[1]/div/div/div[2]/div/div/div/div[1]/div/div[4]/a').click()\n",
    "\n",
    "except Exception as e:\n",
    "    print(\"Today you can not reserve food.resturant is closed.\")\n",
    "\n",
    "time.sleep(5)\n",
    "driver.quit()"
   ]
  },
  {
   "cell_type": "code",
   "execution_count": 4,
   "metadata": {},
   "outputs": [],
   "source": [
    "driver.quit()"
   ]
  },
  {
   "cell_type": "markdown",
   "metadata": {},
   "source": [
    "# Senario 0: Registration with temp email"
   ]
  },
  {
   "cell_type": "code",
   "execution_count": 2,
   "metadata": {},
   "outputs": [
    {
     "name": "stdout",
     "output_type": "stream",
     "text": [
      "first\n"
     ]
    },
    {
     "ename": "KeyboardInterrupt",
     "evalue": "",
     "output_type": "error",
     "traceback": [
      "\u001b[0;31m---------------------------------------------------------------------------\u001b[0m",
      "\u001b[0;31mKeyboardInterrupt\u001b[0m                         Traceback (most recent call last)",
      "\u001b[1;32m/Users/ngn/Documents/uni/Term 8/TestNarm/Project/Test-automation/main.ipynb Cell 7\u001b[0m in \u001b[0;36m<cell line: 7>\u001b[0;34m()\u001b[0m\n\u001b[1;32m      <a href='vscode-notebook-cell:/Users/ngn/Documents/uni/Term%208/TestNarm/Project/Test-automation/main.ipynb#W6sZmlsZQ%3D%3D?line=4'>5</a>\u001b[0m \u001b[39mprint\u001b[39m(\u001b[39m'\u001b[39m\u001b[39mfirst\u001b[39m\u001b[39m'\u001b[39m)\n\u001b[1;32m      <a href='vscode-notebook-cell:/Users/ngn/Documents/uni/Term%208/TestNarm/Project/Test-automation/main.ipynb#W6sZmlsZQ%3D%3D?line=5'>6</a>\u001b[0m \u001b[39m# navigate to temp mail webpage\u001b[39;00m\n\u001b[0;32m----> <a href='vscode-notebook-cell:/Users/ngn/Documents/uni/Term%208/TestNarm/Project/Test-automation/main.ipynb#W6sZmlsZQ%3D%3D?line=6'>7</a>\u001b[0m driver\u001b[39m.\u001b[39;49mget(\u001b[39m'\u001b[39;49m\u001b[39mhttps://tempmailo.com\u001b[39;49m\u001b[39m'\u001b[39;49m)\n\u001b[1;32m      <a href='vscode-notebook-cell:/Users/ngn/Documents/uni/Term%208/TestNarm/Project/Test-automation/main.ipynb#W6sZmlsZQ%3D%3D?line=7'>8</a>\u001b[0m \u001b[39mprint\u001b[39m(\u001b[39m'\u001b[39m\u001b[39mbefor 2 sec\u001b[39m\u001b[39m'\u001b[39m)\n\u001b[1;32m      <a href='vscode-notebook-cell:/Users/ngn/Documents/uni/Term%208/TestNarm/Project/Test-automation/main.ipynb#W6sZmlsZQ%3D%3D?line=8'>9</a>\u001b[0m time\u001b[39m.\u001b[39msleep(\u001b[39m2\u001b[39m)\n",
      "File \u001b[0;32m/Library/Frameworks/Python.framework/Versions/3.8/lib/python3.8/site-packages/selenium/webdriver/remote/webdriver.py:430\u001b[0m, in \u001b[0;36mWebDriver.get\u001b[0;34m(self, url)\u001b[0m\n\u001b[1;32m    426\u001b[0m \u001b[39mdef\u001b[39;00m \u001b[39mget\u001b[39m(\u001b[39mself\u001b[39m, url: \u001b[39mstr\u001b[39m) \u001b[39m-\u001b[39m\u001b[39m>\u001b[39m \u001b[39mNone\u001b[39;00m:\n\u001b[1;32m    427\u001b[0m     \u001b[39m\"\"\"\u001b[39;00m\n\u001b[1;32m    428\u001b[0m \u001b[39m    Loads a web page in the current browser session.\u001b[39;00m\n\u001b[1;32m    429\u001b[0m \u001b[39m    \"\"\"\u001b[39;00m\n\u001b[0;32m--> 430\u001b[0m     \u001b[39mself\u001b[39;49m\u001b[39m.\u001b[39;49mexecute(Command\u001b[39m.\u001b[39;49mGET, {\u001b[39m'\u001b[39;49m\u001b[39murl\u001b[39;49m\u001b[39m'\u001b[39;49m: url})\n",
      "File \u001b[0;32m/Library/Frameworks/Python.framework/Versions/3.8/lib/python3.8/site-packages/selenium/webdriver/remote/webdriver.py:416\u001b[0m, in \u001b[0;36mWebDriver.execute\u001b[0;34m(self, driver_command, params)\u001b[0m\n\u001b[1;32m    413\u001b[0m         params[\u001b[39m'\u001b[39m\u001b[39msessionId\u001b[39m\u001b[39m'\u001b[39m] \u001b[39m=\u001b[39m \u001b[39mself\u001b[39m\u001b[39m.\u001b[39msession_id\n\u001b[1;32m    415\u001b[0m params \u001b[39m=\u001b[39m \u001b[39mself\u001b[39m\u001b[39m.\u001b[39m_wrap_value(params)\n\u001b[0;32m--> 416\u001b[0m response \u001b[39m=\u001b[39m \u001b[39mself\u001b[39;49m\u001b[39m.\u001b[39;49mcommand_executor\u001b[39m.\u001b[39;49mexecute(driver_command, params)\n\u001b[1;32m    417\u001b[0m \u001b[39mif\u001b[39;00m response:\n\u001b[1;32m    418\u001b[0m     \u001b[39mself\u001b[39m\u001b[39m.\u001b[39merror_handler\u001b[39m.\u001b[39mcheck_response(response)\n",
      "File \u001b[0;32m/Library/Frameworks/Python.framework/Versions/3.8/lib/python3.8/site-packages/selenium/webdriver/remote/remote_connection.py:398\u001b[0m, in \u001b[0;36mRemoteConnection.execute\u001b[0;34m(self, command, params)\u001b[0m\n\u001b[1;32m    396\u001b[0m data \u001b[39m=\u001b[39m utils\u001b[39m.\u001b[39mdump_json(params)\n\u001b[1;32m    397\u001b[0m url \u001b[39m=\u001b[39m \u001b[39mf\u001b[39m\u001b[39m\"\u001b[39m\u001b[39m{\u001b[39;00m\u001b[39mself\u001b[39m\u001b[39m.\u001b[39m_url\u001b[39m}\u001b[39;00m\u001b[39m{\u001b[39;00mpath\u001b[39m}\u001b[39;00m\u001b[39m\"\u001b[39m\n\u001b[0;32m--> 398\u001b[0m \u001b[39mreturn\u001b[39;00m \u001b[39mself\u001b[39;49m\u001b[39m.\u001b[39;49m_request(command_info[\u001b[39m0\u001b[39;49m], url, body\u001b[39m=\u001b[39;49mdata)\n",
      "File \u001b[0;32m/Library/Frameworks/Python.framework/Versions/3.8/lib/python3.8/site-packages/selenium/webdriver/remote/remote_connection.py:420\u001b[0m, in \u001b[0;36mRemoteConnection._request\u001b[0;34m(self, method, url, body)\u001b[0m\n\u001b[1;32m    417\u001b[0m     body \u001b[39m=\u001b[39m \u001b[39mNone\u001b[39;00m\n\u001b[1;32m    419\u001b[0m \u001b[39mif\u001b[39;00m \u001b[39mself\u001b[39m\u001b[39m.\u001b[39mkeep_alive:\n\u001b[0;32m--> 420\u001b[0m     resp \u001b[39m=\u001b[39m \u001b[39mself\u001b[39;49m\u001b[39m.\u001b[39;49m_conn\u001b[39m.\u001b[39;49mrequest(method, url, body\u001b[39m=\u001b[39;49mbody, headers\u001b[39m=\u001b[39;49mheaders)\n\u001b[1;32m    421\u001b[0m     statuscode \u001b[39m=\u001b[39m resp\u001b[39m.\u001b[39mstatus\n\u001b[1;32m    422\u001b[0m \u001b[39melse\u001b[39;00m:\n",
      "File \u001b[0;32m/Library/Frameworks/Python.framework/Versions/3.8/lib/python3.8/site-packages/urllib3/request.py:78\u001b[0m, in \u001b[0;36mRequestMethods.request\u001b[0;34m(self, method, url, fields, headers, **urlopen_kw)\u001b[0m\n\u001b[1;32m     74\u001b[0m     \u001b[39mreturn\u001b[39;00m \u001b[39mself\u001b[39m\u001b[39m.\u001b[39mrequest_encode_url(\n\u001b[1;32m     75\u001b[0m         method, url, fields\u001b[39m=\u001b[39mfields, headers\u001b[39m=\u001b[39mheaders, \u001b[39m*\u001b[39m\u001b[39m*\u001b[39murlopen_kw\n\u001b[1;32m     76\u001b[0m     )\n\u001b[1;32m     77\u001b[0m \u001b[39melse\u001b[39;00m:\n\u001b[0;32m---> 78\u001b[0m     \u001b[39mreturn\u001b[39;00m \u001b[39mself\u001b[39;49m\u001b[39m.\u001b[39;49mrequest_encode_body(\n\u001b[1;32m     79\u001b[0m         method, url, fields\u001b[39m=\u001b[39;49mfields, headers\u001b[39m=\u001b[39;49mheaders, \u001b[39m*\u001b[39;49m\u001b[39m*\u001b[39;49murlopen_kw\n\u001b[1;32m     80\u001b[0m     )\n",
      "File \u001b[0;32m/Library/Frameworks/Python.framework/Versions/3.8/lib/python3.8/site-packages/urllib3/request.py:170\u001b[0m, in \u001b[0;36mRequestMethods.request_encode_body\u001b[0;34m(self, method, url, fields, headers, encode_multipart, multipart_boundary, **urlopen_kw)\u001b[0m\n\u001b[1;32m    167\u001b[0m extra_kw[\u001b[39m\"\u001b[39m\u001b[39mheaders\u001b[39m\u001b[39m\"\u001b[39m]\u001b[39m.\u001b[39mupdate(headers)\n\u001b[1;32m    168\u001b[0m extra_kw\u001b[39m.\u001b[39mupdate(urlopen_kw)\n\u001b[0;32m--> 170\u001b[0m \u001b[39mreturn\u001b[39;00m \u001b[39mself\u001b[39;49m\u001b[39m.\u001b[39;49murlopen(method, url, \u001b[39m*\u001b[39;49m\u001b[39m*\u001b[39;49mextra_kw)\n",
      "File \u001b[0;32m/Library/Frameworks/Python.framework/Versions/3.8/lib/python3.8/site-packages/urllib3/poolmanager.py:375\u001b[0m, in \u001b[0;36mPoolManager.urlopen\u001b[0;34m(self, method, url, redirect, **kw)\u001b[0m\n\u001b[1;32m    373\u001b[0m     response \u001b[39m=\u001b[39m conn\u001b[39m.\u001b[39murlopen(method, url, \u001b[39m*\u001b[39m\u001b[39m*\u001b[39mkw)\n\u001b[1;32m    374\u001b[0m \u001b[39melse\u001b[39;00m:\n\u001b[0;32m--> 375\u001b[0m     response \u001b[39m=\u001b[39m conn\u001b[39m.\u001b[39;49murlopen(method, u\u001b[39m.\u001b[39;49mrequest_uri, \u001b[39m*\u001b[39;49m\u001b[39m*\u001b[39;49mkw)\n\u001b[1;32m    377\u001b[0m redirect_location \u001b[39m=\u001b[39m redirect \u001b[39mand\u001b[39;00m response\u001b[39m.\u001b[39mget_redirect_location()\n\u001b[1;32m    378\u001b[0m \u001b[39mif\u001b[39;00m \u001b[39mnot\u001b[39;00m redirect_location:\n",
      "File \u001b[0;32m/Library/Frameworks/Python.framework/Versions/3.8/lib/python3.8/site-packages/urllib3/connectionpool.py:699\u001b[0m, in \u001b[0;36mHTTPConnectionPool.urlopen\u001b[0;34m(self, method, url, body, headers, retries, redirect, assert_same_host, timeout, pool_timeout, release_conn, chunked, body_pos, **response_kw)\u001b[0m\n\u001b[1;32m    696\u001b[0m     \u001b[39mself\u001b[39m\u001b[39m.\u001b[39m_prepare_proxy(conn)\n\u001b[1;32m    698\u001b[0m \u001b[39m# Make the request on the httplib connection object.\u001b[39;00m\n\u001b[0;32m--> 699\u001b[0m httplib_response \u001b[39m=\u001b[39m \u001b[39mself\u001b[39;49m\u001b[39m.\u001b[39;49m_make_request(\n\u001b[1;32m    700\u001b[0m     conn,\n\u001b[1;32m    701\u001b[0m     method,\n\u001b[1;32m    702\u001b[0m     url,\n\u001b[1;32m    703\u001b[0m     timeout\u001b[39m=\u001b[39;49mtimeout_obj,\n\u001b[1;32m    704\u001b[0m     body\u001b[39m=\u001b[39;49mbody,\n\u001b[1;32m    705\u001b[0m     headers\u001b[39m=\u001b[39;49mheaders,\n\u001b[1;32m    706\u001b[0m     chunked\u001b[39m=\u001b[39;49mchunked,\n\u001b[1;32m    707\u001b[0m )\n\u001b[1;32m    709\u001b[0m \u001b[39m# If we're going to release the connection in ``finally:``, then\u001b[39;00m\n\u001b[1;32m    710\u001b[0m \u001b[39m# the response doesn't need to know about the connection. Otherwise\u001b[39;00m\n\u001b[1;32m    711\u001b[0m \u001b[39m# it will also try to release it and we'll have a double-release\u001b[39;00m\n\u001b[1;32m    712\u001b[0m \u001b[39m# mess.\u001b[39;00m\n\u001b[1;32m    713\u001b[0m response_conn \u001b[39m=\u001b[39m conn \u001b[39mif\u001b[39;00m \u001b[39mnot\u001b[39;00m release_conn \u001b[39melse\u001b[39;00m \u001b[39mNone\u001b[39;00m\n",
      "File \u001b[0;32m/Library/Frameworks/Python.framework/Versions/3.8/lib/python3.8/site-packages/urllib3/connectionpool.py:445\u001b[0m, in \u001b[0;36mHTTPConnectionPool._make_request\u001b[0;34m(self, conn, method, url, timeout, chunked, **httplib_request_kw)\u001b[0m\n\u001b[1;32m    440\u001b[0m             httplib_response \u001b[39m=\u001b[39m conn\u001b[39m.\u001b[39mgetresponse()\n\u001b[1;32m    441\u001b[0m         \u001b[39mexcept\u001b[39;00m \u001b[39mBaseException\u001b[39;00m \u001b[39mas\u001b[39;00m e:\n\u001b[1;32m    442\u001b[0m             \u001b[39m# Remove the TypeError from the exception chain in\u001b[39;00m\n\u001b[1;32m    443\u001b[0m             \u001b[39m# Python 3 (including for exceptions like SystemExit).\u001b[39;00m\n\u001b[1;32m    444\u001b[0m             \u001b[39m# Otherwise it looks like a bug in the code.\u001b[39;00m\n\u001b[0;32m--> 445\u001b[0m             six\u001b[39m.\u001b[39;49mraise_from(e, \u001b[39mNone\u001b[39;49;00m)\n\u001b[1;32m    446\u001b[0m \u001b[39mexcept\u001b[39;00m (SocketTimeout, BaseSSLError, SocketError) \u001b[39mas\u001b[39;00m e:\n\u001b[1;32m    447\u001b[0m     \u001b[39mself\u001b[39m\u001b[39m.\u001b[39m_raise_timeout(err\u001b[39m=\u001b[39me, url\u001b[39m=\u001b[39murl, timeout_value\u001b[39m=\u001b[39mread_timeout)\n",
      "File \u001b[0;32m<string>:3\u001b[0m, in \u001b[0;36mraise_from\u001b[0;34m(value, from_value)\u001b[0m\n",
      "File \u001b[0;32m/Library/Frameworks/Python.framework/Versions/3.8/lib/python3.8/site-packages/urllib3/connectionpool.py:440\u001b[0m, in \u001b[0;36mHTTPConnectionPool._make_request\u001b[0;34m(self, conn, method, url, timeout, chunked, **httplib_request_kw)\u001b[0m\n\u001b[1;32m    437\u001b[0m \u001b[39mexcept\u001b[39;00m \u001b[39mTypeError\u001b[39;00m:\n\u001b[1;32m    438\u001b[0m     \u001b[39m# Python 3\u001b[39;00m\n\u001b[1;32m    439\u001b[0m     \u001b[39mtry\u001b[39;00m:\n\u001b[0;32m--> 440\u001b[0m         httplib_response \u001b[39m=\u001b[39m conn\u001b[39m.\u001b[39;49mgetresponse()\n\u001b[1;32m    441\u001b[0m     \u001b[39mexcept\u001b[39;00m \u001b[39mBaseException\u001b[39;00m \u001b[39mas\u001b[39;00m e:\n\u001b[1;32m    442\u001b[0m         \u001b[39m# Remove the TypeError from the exception chain in\u001b[39;00m\n\u001b[1;32m    443\u001b[0m         \u001b[39m# Python 3 (including for exceptions like SystemExit).\u001b[39;00m\n\u001b[1;32m    444\u001b[0m         \u001b[39m# Otherwise it looks like a bug in the code.\u001b[39;00m\n\u001b[1;32m    445\u001b[0m         six\u001b[39m.\u001b[39mraise_from(e, \u001b[39mNone\u001b[39;00m)\n",
      "File \u001b[0;32m/Library/Frameworks/Python.framework/Versions/3.8/lib/python3.8/http/client.py:1347\u001b[0m, in \u001b[0;36mHTTPConnection.getresponse\u001b[0;34m(self)\u001b[0m\n\u001b[1;32m   1345\u001b[0m \u001b[39mtry\u001b[39;00m:\n\u001b[1;32m   1346\u001b[0m     \u001b[39mtry\u001b[39;00m:\n\u001b[0;32m-> 1347\u001b[0m         response\u001b[39m.\u001b[39;49mbegin()\n\u001b[1;32m   1348\u001b[0m     \u001b[39mexcept\u001b[39;00m \u001b[39mConnectionError\u001b[39;00m:\n\u001b[1;32m   1349\u001b[0m         \u001b[39mself\u001b[39m\u001b[39m.\u001b[39mclose()\n",
      "File \u001b[0;32m/Library/Frameworks/Python.framework/Versions/3.8/lib/python3.8/http/client.py:307\u001b[0m, in \u001b[0;36mHTTPResponse.begin\u001b[0;34m(self)\u001b[0m\n\u001b[1;32m    305\u001b[0m \u001b[39m# read until we get a non-100 response\u001b[39;00m\n\u001b[1;32m    306\u001b[0m \u001b[39mwhile\u001b[39;00m \u001b[39mTrue\u001b[39;00m:\n\u001b[0;32m--> 307\u001b[0m     version, status, reason \u001b[39m=\u001b[39m \u001b[39mself\u001b[39;49m\u001b[39m.\u001b[39;49m_read_status()\n\u001b[1;32m    308\u001b[0m     \u001b[39mif\u001b[39;00m status \u001b[39m!=\u001b[39m CONTINUE:\n\u001b[1;32m    309\u001b[0m         \u001b[39mbreak\u001b[39;00m\n",
      "File \u001b[0;32m/Library/Frameworks/Python.framework/Versions/3.8/lib/python3.8/http/client.py:268\u001b[0m, in \u001b[0;36mHTTPResponse._read_status\u001b[0;34m(self)\u001b[0m\n\u001b[1;32m    267\u001b[0m \u001b[39mdef\u001b[39;00m \u001b[39m_read_status\u001b[39m(\u001b[39mself\u001b[39m):\n\u001b[0;32m--> 268\u001b[0m     line \u001b[39m=\u001b[39m \u001b[39mstr\u001b[39m(\u001b[39mself\u001b[39;49m\u001b[39m.\u001b[39;49mfp\u001b[39m.\u001b[39;49mreadline(_MAXLINE \u001b[39m+\u001b[39;49m \u001b[39m1\u001b[39;49m), \u001b[39m\"\u001b[39m\u001b[39miso-8859-1\u001b[39m\u001b[39m\"\u001b[39m)\n\u001b[1;32m    269\u001b[0m     \u001b[39mif\u001b[39;00m \u001b[39mlen\u001b[39m(line) \u001b[39m>\u001b[39m _MAXLINE:\n\u001b[1;32m    270\u001b[0m         \u001b[39mraise\u001b[39;00m LineTooLong(\u001b[39m\"\u001b[39m\u001b[39mstatus line\u001b[39m\u001b[39m\"\u001b[39m)\n",
      "File \u001b[0;32m/Library/Frameworks/Python.framework/Versions/3.8/lib/python3.8/socket.py:669\u001b[0m, in \u001b[0;36mSocketIO.readinto\u001b[0;34m(self, b)\u001b[0m\n\u001b[1;32m    667\u001b[0m \u001b[39mwhile\u001b[39;00m \u001b[39mTrue\u001b[39;00m:\n\u001b[1;32m    668\u001b[0m     \u001b[39mtry\u001b[39;00m:\n\u001b[0;32m--> 669\u001b[0m         \u001b[39mreturn\u001b[39;00m \u001b[39mself\u001b[39;49m\u001b[39m.\u001b[39;49m_sock\u001b[39m.\u001b[39;49mrecv_into(b)\n\u001b[1;32m    670\u001b[0m     \u001b[39mexcept\u001b[39;00m timeout:\n\u001b[1;32m    671\u001b[0m         \u001b[39mself\u001b[39m\u001b[39m.\u001b[39m_timeout_occurred \u001b[39m=\u001b[39m \u001b[39mTrue\u001b[39;00m\n",
      "\u001b[0;31mKeyboardInterrupt\u001b[0m: "
     ]
    }
   ],
   "source": [
    "path_to_geckodriver = '/Users/ngn/geckodriver'\n",
    "service = Service(path_to_geckodriver)\n",
    "driver = Firefox(service=service)\n",
    "\n",
    "print('first')\n",
    "# navigate to temp mail webpage\n",
    "driver.get('https://tempmailo.com')\n",
    "print('befor 2 sec')\n",
    "time.sleep(2)\n",
    "\n",
    "\n",
    "# driver.find_element_by_xpath('/html/body/main/div[2]/div/div[1]/div[1]/div/button').click()\n",
    "#driver.find_element_by_css_selector('.iconx').click()\n",
    "print('befor click')\n",
    "driver.find_element_by_class_name('iconx')\n",
    "print('after')\n",
    "\n",
    "# switch to the new tab for sevenlearn webpage\n",
    "driver.execute_script(\"window.open('');\")\n",
    "driver.switch_to.window(driver.window_handles[-1])\n",
    "driver.get(\"https://7learn.com\")\n",
    "\n",
    "\n",
    "# click on register button\n",
    "driver.find_element_by_xpath('//*[@id=\"cmp-navbar\"]/div/div[2]/div/a[2]').click()\n",
    "\n",
    "# Enter name and password\n",
    "driver.find_element_by_xpath('//*[@id=\"form2\"]/input[5]').send_keys('علی علوی')\n",
    "driver.find_element_by_xpath('//*[@id=\"form2\"]/input[7]').send_keys('12345678a')\n",
    "\n",
    "# Get clipboard data\n",
    "text = pyperclip.paste()\n",
    "\n",
    "# click on the input element to focus it\n",
    "driver.find_element_by_xpath('//*[@id=\"form2\"]/input[6]').click()\n",
    "\n",
    "# use ActionChains to simulate a keyboard shortcut for pasting\n",
    "ActionChains(driver).key_down(Keys.COMMAND).send_keys('v').key_up(Keys.COMMAND).perform()\n",
    "\n",
    "# ok button\n",
    "driver.find_element_by_xpath('//*[@id=\"form2\"]/button').click()\n",
    "\n",
    "# open email tab\n",
    "driver.switch_to.window(driver.window_handles[0])\n",
    "\n",
    "# click on inbox (verification email)\n",
    "time.sleep(5)\n",
    "driver.find_element_by_xpath('//*[@id=\"apptmo\"]/div/div[2]/div[1]/ul/li[1]').click()\n",
    "time.sleep(3)\n",
    "\n",
    "verification_url = driver.find_element_by_xpath('/html/body/div/div[1]/p[3]').get_attribute('innerHTML')\n",
    "\n",
    "# Open a new URL by pasting the inner HTML in the address bar\n",
    "driver.get(verification_url)\n",
    "\n",
    "# refresh the page to login\n",
    "driver.refresh()\n",
    "\n"
   ]
  },
  {
   "cell_type": "code",
   "execution_count": 18,
   "metadata": {},
   "outputs": [],
   "source": [
    "driver.quit()"
   ]
  },
  {
   "cell_type": "code",
   "execution_count": 19,
   "metadata": {},
   "outputs": [
    {
     "name": "stdout",
     "output_type": "stream",
     "text": [
      "first\n",
      "after get url\n",
      "after 15 sec\n",
      "after copy\n"
     ]
    },
    {
     "name": "stderr",
     "output_type": "stream",
     "text": [
      "/var/folders/bf/9616ns414yg2qn2p8czl2sr00000gn/T/ipykernel_64637/627712269.py:26: DeprecationWarning: find_element_by_* commands are deprecated. Please use find_element() instead\n",
      "  driver.find_element_by_xpath('//*[@id=\"cmp-navbar\"]/div/div[2]/div/a[2]').click()\n",
      "/var/folders/bf/9616ns414yg2qn2p8czl2sr00000gn/T/ipykernel_64637/627712269.py:29: DeprecationWarning: find_element_by_* commands are deprecated. Please use find_element() instead\n",
      "  driver.find_element_by_xpath('//*[@id=\"form2\"]/input[5]').send_keys('علی علوی')\n",
      "/var/folders/bf/9616ns414yg2qn2p8czl2sr00000gn/T/ipykernel_64637/627712269.py:30: DeprecationWarning: find_element_by_* commands are deprecated. Please use find_element() instead\n",
      "  driver.find_element_by_xpath('//*[@id=\"form2\"]/input[7]').send_keys('12345678a')\n",
      "/var/folders/bf/9616ns414yg2qn2p8czl2sr00000gn/T/ipykernel_64637/627712269.py:36: DeprecationWarning: find_element_by_* commands are deprecated. Please use find_element() instead\n",
      "  driver.find_element_by_xpath('//*[@id=\"form2\"]/input[6]').click()\n",
      "/var/folders/bf/9616ns414yg2qn2p8czl2sr00000gn/T/ipykernel_64637/627712269.py:42: DeprecationWarning: find_element_by_* commands are deprecated. Please use find_element() instead\n",
      "  driver.find_element_by_xpath('//*[@id=\"form2\"]/button').click()\n",
      "/var/folders/bf/9616ns414yg2qn2p8czl2sr00000gn/T/ipykernel_64637/627712269.py:49: DeprecationWarning: find_element_by_* commands are deprecated. Please use find_element() instead\n",
      "  driver.find_element_by_xpath('/html/body/div[2]/div[5]/div/table/tbody/tr[2]').click()\n"
     ]
    },
    {
     "ename": "ElementNotInteractableException",
     "evalue": "Message: Element <tr class=\"hidden-md hidden-lg klikaciRadek newMail\"> could not be scrolled into view\nStacktrace:\nRemoteError@chrome://remote/content/shared/RemoteError.sys.mjs:8:8\nWebDriverError@chrome://remote/content/shared/webdriver/Errors.sys.mjs:183:5\nElementNotInteractableError@chrome://remote/content/shared/webdriver/Errors.sys.mjs:293:5\nwebdriverClickElement@chrome://remote/content/marionette/interaction.sys.mjs:150:11\ninteraction.clickElement@chrome://remote/content/marionette/interaction.sys.mjs:119:11\nclickElement@chrome://remote/content/marionette/actors/MarionetteCommandsChild.sys.mjs:214:29\nreceiveMessage@chrome://remote/content/marionette/actors/MarionetteCommandsChild.sys.mjs:97:31\nsend@https://ddn.r.worldssl.net/js/jquery.min.js:4:16838\najax@https://ddn.r.worldssl.net/js/jquery.min.js:4:13670\nnactiPostu@https://ddn.r.worldssl.net/js/tempmail.min.js?time=120920191600:1:1582\nreset@https://ddn.r.worldssl.net/js/tempmail.min.js?time=120920191600:1:805\n",
     "output_type": "error",
     "traceback": [
      "\u001b[0;31m---------------------------------------------------------------------------\u001b[0m",
      "\u001b[0;31mElementNotInteractableException\u001b[0m           Traceback (most recent call last)",
      "\u001b[1;32m/Users/ngn/Documents/uni/Term 8/TestNarm/Project/Test-automation/main.ipynb Cell 9\u001b[0m in \u001b[0;36m<cell line: 49>\u001b[0;34m()\u001b[0m\n\u001b[1;32m     <a href='vscode-notebook-cell:/Users/ngn/Documents/uni/Term%208/TestNarm/Project/Test-automation/main.ipynb#X11sZmlsZQ%3D%3D?line=46'>47</a>\u001b[0m \u001b[39m# click on inbox (verification email)\u001b[39;00m\n\u001b[1;32m     <a href='vscode-notebook-cell:/Users/ngn/Documents/uni/Term%208/TestNarm/Project/Test-automation/main.ipynb#X11sZmlsZQ%3D%3D?line=47'>48</a>\u001b[0m time\u001b[39m.\u001b[39msleep(\u001b[39m5\u001b[39m)\n\u001b[0;32m---> <a href='vscode-notebook-cell:/Users/ngn/Documents/uni/Term%208/TestNarm/Project/Test-automation/main.ipynb#X11sZmlsZQ%3D%3D?line=48'>49</a>\u001b[0m driver\u001b[39m.\u001b[39;49mfind_element_by_xpath(\u001b[39m'\u001b[39;49m\u001b[39m/html/body/div[2]/div[5]/div/table/tbody/tr[2]\u001b[39;49m\u001b[39m'\u001b[39;49m)\u001b[39m.\u001b[39;49mclick()\n\u001b[1;32m     <a href='vscode-notebook-cell:/Users/ngn/Documents/uni/Term%208/TestNarm/Project/Test-automation/main.ipynb#X11sZmlsZQ%3D%3D?line=49'>50</a>\u001b[0m time\u001b[39m.\u001b[39msleep(\u001b[39m10\u001b[39m)\n\u001b[1;32m     <a href='vscode-notebook-cell:/Users/ngn/Documents/uni/Term%208/TestNarm/Project/Test-automation/main.ipynb#X11sZmlsZQ%3D%3D?line=51'>52</a>\u001b[0m verification_url \u001b[39m=\u001b[39m driver\u001b[39m.\u001b[39mfind_element_by_xpath(\u001b[39m'\u001b[39m\u001b[39m/html/body/div/div[1]/p[3]\u001b[39m\u001b[39m'\u001b[39m)\u001b[39m.\u001b[39mget_attribute(\u001b[39m'\u001b[39m\u001b[39minnerHTML\u001b[39m\u001b[39m'\u001b[39m)\n",
      "File \u001b[0;32m/Library/Frameworks/Python.framework/Versions/3.8/lib/python3.8/site-packages/selenium/webdriver/remote/webelement.py:80\u001b[0m, in \u001b[0;36mWebElement.click\u001b[0;34m(self)\u001b[0m\n\u001b[1;32m     78\u001b[0m \u001b[39mdef\u001b[39;00m \u001b[39mclick\u001b[39m(\u001b[39mself\u001b[39m) \u001b[39m-\u001b[39m\u001b[39m>\u001b[39m \u001b[39mNone\u001b[39;00m:\n\u001b[1;32m     79\u001b[0m     \u001b[39m\"\"\"Clicks the element.\"\"\"\u001b[39;00m\n\u001b[0;32m---> 80\u001b[0m     \u001b[39mself\u001b[39;49m\u001b[39m.\u001b[39;49m_execute(Command\u001b[39m.\u001b[39;49mCLICK_ELEMENT)\n",
      "File \u001b[0;32m/Library/Frameworks/Python.framework/Versions/3.8/lib/python3.8/site-packages/selenium/webdriver/remote/webelement.py:693\u001b[0m, in \u001b[0;36mWebElement._execute\u001b[0;34m(self, command, params)\u001b[0m\n\u001b[1;32m    691\u001b[0m     params \u001b[39m=\u001b[39m {}\n\u001b[1;32m    692\u001b[0m params[\u001b[39m'\u001b[39m\u001b[39mid\u001b[39m\u001b[39m'\u001b[39m] \u001b[39m=\u001b[39m \u001b[39mself\u001b[39m\u001b[39m.\u001b[39m_id\n\u001b[0;32m--> 693\u001b[0m \u001b[39mreturn\u001b[39;00m \u001b[39mself\u001b[39;49m\u001b[39m.\u001b[39;49m_parent\u001b[39m.\u001b[39;49mexecute(command, params)\n",
      "File \u001b[0;32m/Library/Frameworks/Python.framework/Versions/3.8/lib/python3.8/site-packages/selenium/webdriver/remote/webdriver.py:418\u001b[0m, in \u001b[0;36mWebDriver.execute\u001b[0;34m(self, driver_command, params)\u001b[0m\n\u001b[1;32m    416\u001b[0m response \u001b[39m=\u001b[39m \u001b[39mself\u001b[39m\u001b[39m.\u001b[39mcommand_executor\u001b[39m.\u001b[39mexecute(driver_command, params)\n\u001b[1;32m    417\u001b[0m \u001b[39mif\u001b[39;00m response:\n\u001b[0;32m--> 418\u001b[0m     \u001b[39mself\u001b[39;49m\u001b[39m.\u001b[39;49merror_handler\u001b[39m.\u001b[39;49mcheck_response(response)\n\u001b[1;32m    419\u001b[0m     response[\u001b[39m'\u001b[39m\u001b[39mvalue\u001b[39m\u001b[39m'\u001b[39m] \u001b[39m=\u001b[39m \u001b[39mself\u001b[39m\u001b[39m.\u001b[39m_unwrap_value(\n\u001b[1;32m    420\u001b[0m         response\u001b[39m.\u001b[39mget(\u001b[39m'\u001b[39m\u001b[39mvalue\u001b[39m\u001b[39m'\u001b[39m, \u001b[39mNone\u001b[39;00m))\n\u001b[1;32m    421\u001b[0m     \u001b[39mreturn\u001b[39;00m response\n",
      "File \u001b[0;32m/Library/Frameworks/Python.framework/Versions/3.8/lib/python3.8/site-packages/selenium/webdriver/remote/errorhandler.py:243\u001b[0m, in \u001b[0;36mErrorHandler.check_response\u001b[0;34m(self, response)\u001b[0m\n\u001b[1;32m    241\u001b[0m         alert_text \u001b[39m=\u001b[39m value[\u001b[39m'\u001b[39m\u001b[39malert\u001b[39m\u001b[39m'\u001b[39m]\u001b[39m.\u001b[39mget(\u001b[39m'\u001b[39m\u001b[39mtext\u001b[39m\u001b[39m'\u001b[39m)\n\u001b[1;32m    242\u001b[0m     \u001b[39mraise\u001b[39;00m exception_class(message, screen, stacktrace, alert_text)  \u001b[39m# type: ignore[call-arg]  # mypy is not smart enough here\u001b[39;00m\n\u001b[0;32m--> 243\u001b[0m \u001b[39mraise\u001b[39;00m exception_class(message, screen, stacktrace)\n",
      "\u001b[0;31mElementNotInteractableException\u001b[0m: Message: Element <tr class=\"hidden-md hidden-lg klikaciRadek newMail\"> could not be scrolled into view\nStacktrace:\nRemoteError@chrome://remote/content/shared/RemoteError.sys.mjs:8:8\nWebDriverError@chrome://remote/content/shared/webdriver/Errors.sys.mjs:183:5\nElementNotInteractableError@chrome://remote/content/shared/webdriver/Errors.sys.mjs:293:5\nwebdriverClickElement@chrome://remote/content/marionette/interaction.sys.mjs:150:11\ninteraction.clickElement@chrome://remote/content/marionette/interaction.sys.mjs:119:11\nclickElement@chrome://remote/content/marionette/actors/MarionetteCommandsChild.sys.mjs:214:29\nreceiveMessage@chrome://remote/content/marionette/actors/MarionetteCommandsChild.sys.mjs:97:31\nsend@https://ddn.r.worldssl.net/js/jquery.min.js:4:16838\najax@https://ddn.r.worldssl.net/js/jquery.min.js:4:13670\nnactiPostu@https://ddn.r.worldssl.net/js/tempmail.min.js?time=120920191600:1:1582\nreset@https://ddn.r.worldssl.net/js/tempmail.min.js?time=120920191600:1:805\n"
     ]
    }
   ],
   "source": [
    "path_to_geckodriver = '/Users/ngn/geckodriver'\n",
    "service = Service(path_to_geckodriver)\n",
    "driver = Firefox(service=service)\n",
    "\n",
    "print('first')\n",
    "# navigate to temp mail webpage\n",
    "driver.get('https://www.disposablemail.com/')\n",
    "print('after get url')\n",
    "# time.sleep(15)\n",
    "print('after 15 sec')\n",
    "\n",
    "\n",
    "# driver.find_element_by_xpath('/html/body/main/div[2]/div/div[1]/div[1]/div/button').click()\n",
    "#driver.find_element_by_css_selector('.iconx').click()\n",
    "# driver.find_element_by_xpath('/html/body/div[2]/div[3]/div/div[1]/div[1]/div/div[1]/div/div[3]/ul/li[1]/a').click()\n",
    "driver.find_element(By.XPATH, '/html/body/div[2]/div[3]/div/div[1]/div[1]/div/div[1]/div/div[3]/ul/li[1]/a').click()\n",
    "\n",
    "print('after copy')\n",
    "\n",
    "# switch to the new tab for sevenlearn webpage\n",
    "driver.execute_script(\"window.open('');\")\n",
    "driver.switch_to.window(driver.window_handles[-1])\n",
    "driver.get(\"https://7learn.com\")\n",
    "\n",
    "# click on register button\n",
    "driver.find_element_by_xpath('//*[@id=\"cmp-navbar\"]/div/div[2]/div/a[2]').click()\n",
    "\n",
    "# Enter name and password\n",
    "driver.find_element_by_xpath('//*[@id=\"form2\"]/input[5]').send_keys('علی علوی')\n",
    "driver.find_element_by_xpath('//*[@id=\"form2\"]/input[7]').send_keys('12345678a')\n",
    "\n",
    "# Get clipboard data\n",
    "text = pyperclip.paste()\n",
    "\n",
    "# click on the input element to focus it\n",
    "driver.find_element_by_xpath('//*[@id=\"form2\"]/input[6]').click()\n",
    "\n",
    "# use ActionChains to simulate a keyboard shortcut for pasting\n",
    "ActionChains(driver).key_down(Keys.COMMAND).send_keys('v').key_up(Keys.COMMAND).perform()\n",
    "\n",
    "# ok button\n",
    "driver.find_element_by_xpath('//*[@id=\"form2\"]/button').click()\n",
    "\n",
    "# open email tab\n",
    "driver.switch_to.window(driver.window_handles[0])\n",
    "\n",
    "# click on inbox (verification email)\n",
    "time.sleep(5)\n",
    "driver.find_element_by_xpath('/html/body/div[2]/div[5]/div/table/tbody/tr[2]').click()\n",
    "time.sleep(10)\n",
    "\n",
    "verification_url = driver.find_element_by_xpath('/html/body/div/div[1]/p[3]').get_attribute('innerHTML')\n",
    "\n",
    "# Open a new URL by pasting the inner HTML in the address bar\n",
    "driver.get(verification_url)\n",
    "\n",
    "# refresh the page to login\n",
    "driver.refresh()\n",
    "\n"
   ]
  },
  {
   "cell_type": "code",
   "execution_count": 21,
   "metadata": {},
   "outputs": [
    {
     "name": "stderr",
     "output_type": "stream",
     "text": [
      "/var/folders/bf/9616ns414yg2qn2p8czl2sr00000gn/T/ipykernel_64637/3757166987.py:1: DeprecationWarning: find_element_by_* commands are deprecated. Please use find_element() instead\n",
      "  driver.find_element_by_xpath('').click()\n"
     ]
    },
    {
     "ename": "InvalidSelectorException",
     "evalue": "Message: Given xpath expression \"\" is invalid: SyntaxError: Document.evaluate: The expression is not a legal expression\nStacktrace:\nRemoteError@chrome://remote/content/shared/RemoteError.sys.mjs:8:8\nWebDriverError@chrome://remote/content/shared/webdriver/Errors.sys.mjs:183:5\nInvalidSelectorError@chrome://remote/content/shared/webdriver/Errors.sys.mjs:343:5\nfind_@chrome://remote/content/marionette/element.sys.mjs:168:11\nelement.find/</findElements<@chrome://remote/content/marionette/element.sys.mjs:116:24\nevalFn@chrome://remote/content/marionette/sync.sys.mjs:119:7\nPollPromise/<@chrome://remote/content/marionette/sync.sys.mjs:139:5\nPollPromise@chrome://remote/content/marionette/sync.sys.mjs:110:10\nelement.find/<@chrome://remote/content/marionette/element.sys.mjs:114:24\nelement.find@chrome://remote/content/marionette/element.sys.mjs:113:10\nfindElement@chrome://remote/content/marionette/actors/MarionetteCommandsChild.sys.mjs:254:25\nreceiveMessage@chrome://remote/content/marionette/actors/MarionetteCommandsChild.sys.mjs:105:31\nsend@https://ddn.r.worldssl.net/js/jquery.min.js:4:16838\najax@https://ddn.r.worldssl.net/js/jquery.min.js:4:13670\nnactiPostu@https://ddn.r.worldssl.net/js/tempmail.min.js?time=120920191600:1:1582\nreset@https://ddn.r.worldssl.net/js/tempmail.min.js?time=120920191600:1:805\nsetInterval handler*resetLoop@https://ddn.r.worldssl.net/js/tempmail.min.js?time=120920191600:1:414\nrefresh@https://ddn.r.worldssl.net/js/tempmail.min.js?time=120920191600:1:953\nsetInterval handler*refreshLoop@https://ddn.r.worldssl.net/js/tempmail.min.js?time=120920191600:1:306\nreset@https://ddn.r.worldssl.net/js/tempmail.min.js?time=120920191600:1:844\nsetInterval handler*resetLoop@https://ddn.r.worldssl.net/js/tempmail.min.js?time=120920191600:1:414\nrefresh@https://ddn.r.worldssl.net/js/tempmail.min.js?time=120920191600:1:953\nsetInterval handler*refreshLoop@https://ddn.r.worldssl.net/js/tempmail.min.js?time=120920191600:1:306\nreset@https://ddn.r.worldssl.net/js/tempmail.min.js?time=120920191600:1:844\nsetInterval handler*resetLoop@https://ddn.r.worldssl.net/js/tempmail.min.js?time=120920191600:1:414\nrefresh@https://ddn.r.worldssl.net/js/tempmail.min.js?time=120920191600:1:953\n",
     "output_type": "error",
     "traceback": [
      "\u001b[0;31m---------------------------------------------------------------------------\u001b[0m",
      "\u001b[0;31mInvalidSelectorException\u001b[0m                  Traceback (most recent call last)",
      "\u001b[1;32m/Users/ngn/Documents/uni/Term 8/TestNarm/Project/Test-automation/main.ipynb Cell 10\u001b[0m in \u001b[0;36m<cell line: 1>\u001b[0;34m()\u001b[0m\n\u001b[0;32m----> <a href='vscode-notebook-cell:/Users/ngn/Documents/uni/Term%208/TestNarm/Project/Test-automation/main.ipynb#X12sZmlsZQ%3D%3D?line=0'>1</a>\u001b[0m driver\u001b[39m.\u001b[39;49mfind_element_by_xpath(\u001b[39m'\u001b[39;49m\u001b[39m'\u001b[39;49m)\u001b[39m.\u001b[39mclick()\n\u001b[1;32m      <a href='vscode-notebook-cell:/Users/ngn/Documents/uni/Term%208/TestNarm/Project/Test-automation/main.ipynb#X12sZmlsZQ%3D%3D?line=1'>2</a>\u001b[0m time\u001b[39m.\u001b[39msleep(\u001b[39m10\u001b[39m)\n\u001b[1;32m      <a href='vscode-notebook-cell:/Users/ngn/Documents/uni/Term%208/TestNarm/Project/Test-automation/main.ipynb#X12sZmlsZQ%3D%3D?line=3'>4</a>\u001b[0m verification_url \u001b[39m=\u001b[39m driver\u001b[39m.\u001b[39mfind_element_by_xpath(\u001b[39m'\u001b[39m\u001b[39m//*[@id=\u001b[39m\u001b[39m\"\u001b[39m\u001b[39mschranka\u001b[39m\u001b[39m\"\u001b[39m\u001b[39m]]\u001b[39m\u001b[39m'\u001b[39m)\u001b[39m.\u001b[39mget_attribute(\u001b[39m'\u001b[39m\u001b[39minnerHTML\u001b[39m\u001b[39m'\u001b[39m)\n",
      "File \u001b[0;32m/Library/Frameworks/Python.framework/Versions/3.8/lib/python3.8/site-packages/selenium/webdriver/remote/webdriver.py:514\u001b[0m, in \u001b[0;36mWebDriver.find_element_by_xpath\u001b[0;34m(self, xpath)\u001b[0m\n\u001b[1;32m    492\u001b[0m \u001b[39m\"\"\"\u001b[39;00m\n\u001b[1;32m    493\u001b[0m \u001b[39mFinds an element by xpath.\u001b[39;00m\n\u001b[1;32m    494\u001b[0m \n\u001b[0;32m   (...)\u001b[0m\n\u001b[1;32m    507\u001b[0m \u001b[39m        element = driver.find_element_by_xpath('//div/td[1]')\u001b[39;00m\n\u001b[1;32m    508\u001b[0m \u001b[39m\"\"\"\u001b[39;00m\n\u001b[1;32m    509\u001b[0m warnings\u001b[39m.\u001b[39mwarn(\n\u001b[1;32m    510\u001b[0m     \u001b[39m\"\u001b[39m\u001b[39mfind_element_by_* commands are deprecated. Please use find_element() instead\u001b[39m\u001b[39m\"\u001b[39m,\n\u001b[1;32m    511\u001b[0m     \u001b[39mDeprecationWarning\u001b[39;00m,\n\u001b[1;32m    512\u001b[0m     stacklevel\u001b[39m=\u001b[39m\u001b[39m2\u001b[39m,\n\u001b[1;32m    513\u001b[0m )\n\u001b[0;32m--> 514\u001b[0m \u001b[39mreturn\u001b[39;00m \u001b[39mself\u001b[39;49m\u001b[39m.\u001b[39;49mfind_element(by\u001b[39m=\u001b[39;49mBy\u001b[39m.\u001b[39;49mXPATH, value\u001b[39m=\u001b[39;49mxpath)\n",
      "File \u001b[0;32m/Library/Frameworks/Python.framework/Versions/3.8/lib/python3.8/site-packages/selenium/webdriver/remote/webdriver.py:1238\u001b[0m, in \u001b[0;36mWebDriver.find_element\u001b[0;34m(self, by, value)\u001b[0m\n\u001b[1;32m   1235\u001b[0m     by \u001b[39m=\u001b[39m By\u001b[39m.\u001b[39mCSS_SELECTOR\n\u001b[1;32m   1236\u001b[0m     value \u001b[39m=\u001b[39m \u001b[39m'\u001b[39m\u001b[39m[name=\u001b[39m\u001b[39m\"\u001b[39m\u001b[39m%s\u001b[39;00m\u001b[39m\"\u001b[39m\u001b[39m]\u001b[39m\u001b[39m'\u001b[39m \u001b[39m%\u001b[39m value\n\u001b[0;32m-> 1238\u001b[0m \u001b[39mreturn\u001b[39;00m \u001b[39mself\u001b[39;49m\u001b[39m.\u001b[39;49mexecute(Command\u001b[39m.\u001b[39;49mFIND_ELEMENT, {\n\u001b[1;32m   1239\u001b[0m     \u001b[39m'\u001b[39;49m\u001b[39musing\u001b[39;49m\u001b[39m'\u001b[39;49m: by,\n\u001b[1;32m   1240\u001b[0m     \u001b[39m'\u001b[39;49m\u001b[39mvalue\u001b[39;49m\u001b[39m'\u001b[39;49m: value})[\u001b[39m'\u001b[39m\u001b[39mvalue\u001b[39m\u001b[39m'\u001b[39m]\n",
      "File \u001b[0;32m/Library/Frameworks/Python.framework/Versions/3.8/lib/python3.8/site-packages/selenium/webdriver/remote/webdriver.py:418\u001b[0m, in \u001b[0;36mWebDriver.execute\u001b[0;34m(self, driver_command, params)\u001b[0m\n\u001b[1;32m    416\u001b[0m response \u001b[39m=\u001b[39m \u001b[39mself\u001b[39m\u001b[39m.\u001b[39mcommand_executor\u001b[39m.\u001b[39mexecute(driver_command, params)\n\u001b[1;32m    417\u001b[0m \u001b[39mif\u001b[39;00m response:\n\u001b[0;32m--> 418\u001b[0m     \u001b[39mself\u001b[39;49m\u001b[39m.\u001b[39;49merror_handler\u001b[39m.\u001b[39;49mcheck_response(response)\n\u001b[1;32m    419\u001b[0m     response[\u001b[39m'\u001b[39m\u001b[39mvalue\u001b[39m\u001b[39m'\u001b[39m] \u001b[39m=\u001b[39m \u001b[39mself\u001b[39m\u001b[39m.\u001b[39m_unwrap_value(\n\u001b[1;32m    420\u001b[0m         response\u001b[39m.\u001b[39mget(\u001b[39m'\u001b[39m\u001b[39mvalue\u001b[39m\u001b[39m'\u001b[39m, \u001b[39mNone\u001b[39;00m))\n\u001b[1;32m    421\u001b[0m     \u001b[39mreturn\u001b[39;00m response\n",
      "File \u001b[0;32m/Library/Frameworks/Python.framework/Versions/3.8/lib/python3.8/site-packages/selenium/webdriver/remote/errorhandler.py:243\u001b[0m, in \u001b[0;36mErrorHandler.check_response\u001b[0;34m(self, response)\u001b[0m\n\u001b[1;32m    241\u001b[0m         alert_text \u001b[39m=\u001b[39m value[\u001b[39m'\u001b[39m\u001b[39malert\u001b[39m\u001b[39m'\u001b[39m]\u001b[39m.\u001b[39mget(\u001b[39m'\u001b[39m\u001b[39mtext\u001b[39m\u001b[39m'\u001b[39m)\n\u001b[1;32m    242\u001b[0m     \u001b[39mraise\u001b[39;00m exception_class(message, screen, stacktrace, alert_text)  \u001b[39m# type: ignore[call-arg]  # mypy is not smart enough here\u001b[39;00m\n\u001b[0;32m--> 243\u001b[0m \u001b[39mraise\u001b[39;00m exception_class(message, screen, stacktrace)\n",
      "\u001b[0;31mInvalidSelectorException\u001b[0m: Message: Given xpath expression \"\" is invalid: SyntaxError: Document.evaluate: The expression is not a legal expression\nStacktrace:\nRemoteError@chrome://remote/content/shared/RemoteError.sys.mjs:8:8\nWebDriverError@chrome://remote/content/shared/webdriver/Errors.sys.mjs:183:5\nInvalidSelectorError@chrome://remote/content/shared/webdriver/Errors.sys.mjs:343:5\nfind_@chrome://remote/content/marionette/element.sys.mjs:168:11\nelement.find/</findElements<@chrome://remote/content/marionette/element.sys.mjs:116:24\nevalFn@chrome://remote/content/marionette/sync.sys.mjs:119:7\nPollPromise/<@chrome://remote/content/marionette/sync.sys.mjs:139:5\nPollPromise@chrome://remote/content/marionette/sync.sys.mjs:110:10\nelement.find/<@chrome://remote/content/marionette/element.sys.mjs:114:24\nelement.find@chrome://remote/content/marionette/element.sys.mjs:113:10\nfindElement@chrome://remote/content/marionette/actors/MarionetteCommandsChild.sys.mjs:254:25\nreceiveMessage@chrome://remote/content/marionette/actors/MarionetteCommandsChild.sys.mjs:105:31\nsend@https://ddn.r.worldssl.net/js/jquery.min.js:4:16838\najax@https://ddn.r.worldssl.net/js/jquery.min.js:4:13670\nnactiPostu@https://ddn.r.worldssl.net/js/tempmail.min.js?time=120920191600:1:1582\nreset@https://ddn.r.worldssl.net/js/tempmail.min.js?time=120920191600:1:805\nsetInterval handler*resetLoop@https://ddn.r.worldssl.net/js/tempmail.min.js?time=120920191600:1:414\nrefresh@https://ddn.r.worldssl.net/js/tempmail.min.js?time=120920191600:1:953\nsetInterval handler*refreshLoop@https://ddn.r.worldssl.net/js/tempmail.min.js?time=120920191600:1:306\nreset@https://ddn.r.worldssl.net/js/tempmail.min.js?time=120920191600:1:844\nsetInterval handler*resetLoop@https://ddn.r.worldssl.net/js/tempmail.min.js?time=120920191600:1:414\nrefresh@https://ddn.r.worldssl.net/js/tempmail.min.js?time=120920191600:1:953\nsetInterval handler*refreshLoop@https://ddn.r.worldssl.net/js/tempmail.min.js?time=120920191600:1:306\nreset@https://ddn.r.worldssl.net/js/tempmail.min.js?time=120920191600:1:844\nsetInterval handler*resetLoop@https://ddn.r.worldssl.net/js/tempmail.min.js?time=120920191600:1:414\nrefresh@https://ddn.r.worldssl.net/js/tempmail.min.js?time=120920191600:1:953\n"
     ]
    }
   ],
   "source": [
    "driver.find_element_by_xpath('').click()\n",
    "time.sleep(10)\n",
    "\n",
    "verification_url = driver.find_element_by_xpath('//*[@id=\"schranka\"]]').get_attribute('innerHTML')\n",
    "\n",
    "# Open a new URL by pasting the inner HTML in the address bar\n",
    "driver.get(verification_url)\n",
    "\n",
    "# refresh the page to login\n",
    "driver.refresh()"
   ]
  },
  {
   "cell_type": "code",
   "execution_count": null,
   "metadata": {},
   "outputs": [],
   "source": []
  },
  {
   "cell_type": "markdown",
   "metadata": {},
   "source": [
    "# Senario 2: Hotel reservation"
   ]
  },
  {
   "cell_type": "code",
   "execution_count": 29,
   "metadata": {},
   "outputs": [
    {
     "name": "stderr",
     "output_type": "stream",
     "text": [
      "/var/folders/bf/9616ns414yg2qn2p8czl2sr00000gn/T/ipykernel_13275/2397523523.py:10: DeprecationWarning: find_element_by_* commands are deprecated. Please use find_element() instead\n",
      "  driver.find_element_by_xpath(\"/html/body/main/div/div[2]/article/div[4]/div/div[2]/div[1]/div[3]/a\").click()\n",
      "/var/folders/bf/9616ns414yg2qn2p8czl2sr00000gn/T/ipykernel_13275/2397523523.py:13: DeprecationWarning: find_element_by_* commands are deprecated. Please use find_element() instead\n",
      "  driver.find_element_by_xpath('//*[@id=\"hotel--input-focus-2--fc-input\"]').click()\n",
      "/var/folders/bf/9616ns414yg2qn2p8czl2sr00000gn/T/ipykernel_13275/2397523523.py:15: DeprecationWarning: find_element_by_* commands are deprecated. Please use find_element() instead\n",
      "  driver.find_element_by_xpath('/html/body/main/div/div[2]/article/div[4]/div/div[2]/div[2]/div/div/form/div[1]/div[1]/div/div/div/div/div[2]/div/ul/ul/li[3]/div/div[2]/label').click()\n",
      "/var/folders/bf/9616ns414yg2qn2p8czl2sr00000gn/T/ipykernel_13275/2397523523.py:17: DeprecationWarning: find_element_by_* commands are deprecated. Please use find_element() instead\n",
      "  driver.find_element_by_xpath('//*[@id=\"startDate\"]').click()\n",
      "/var/folders/bf/9616ns414yg2qn2p8czl2sr00000gn/T/ipykernel_13275/2397523523.py:20: DeprecationWarning: find_element_by_* commands are deprecated. Please use find_element() instead\n",
      "  driver.find_element_by_xpath('/html/body/main/div/div[2]/article/div[4]/div/div[2]/div[2]/div/div/form/div[1]/div[2]/div/div/div/div/div[2]/div/div/div[1]/div[2]/div[2]/div/div[2]/div/table/tbody/tr[3]/td[5]/div/span').click()\n",
      "/var/folders/bf/9616ns414yg2qn2p8czl2sr00000gn/T/ipykernel_13275/2397523523.py:22: DeprecationWarning: find_element_by_* commands are deprecated. Please use find_element() instead\n",
      "  driver.find_element_by_xpath('/html/body/main/div/div[2]/article/div[4]/div/div[2]/div[2]/div/div/form/div[1]/div[2]/div/div/div/div/div[2]/div/div/div[1]/div[2]/div[2]/div/div[2]/div/table/tbody/tr[3]/td[7]/div/span').click()\n",
      "/var/folders/bf/9616ns414yg2qn2p8czl2sr00000gn/T/ipykernel_13275/2397523523.py:24: DeprecationWarning: find_element_by_* commands are deprecated. Please use find_element() instead\n",
      "  driver.find_element_by_xpath('/html/body/main/div/div[2]/article/div[4]/div/div[2]/div[2]/div/div/form/div[1]/button/canvas').click()\n",
      "/var/folders/bf/9616ns414yg2qn2p8czl2sr00000gn/T/ipykernel_13275/2397523523.py:27: DeprecationWarning: find_element_by_* commands are deprecated. Please use find_element() instead\n",
      "  driver.find_element_by_xpath('/html/body/main/div/div[2]/div/div[2]/div/div[2]/div/div/div[1]/div[2]/div/div[2]/div').click()\n",
      "/var/folders/bf/9616ns414yg2qn2p8czl2sr00000gn/T/ipykernel_13275/2397523523.py:30: DeprecationWarning: find_element_by_* commands are deprecated. Please use find_element() instead\n",
      "  driver.find_element_by_xpath('/html/body/div/div[3]/ul/li[2]').click()\n",
      "/var/folders/bf/9616ns414yg2qn2p8czl2sr00000gn/T/ipykernel_13275/2397523523.py:33: DeprecationWarning: find_element_by_* commands are deprecated. Please use find_element() instead\n",
      "  cost_flightio = driver.find_element_by_xpath('/html/body/main/div/div[2]/div/div[2]/div/div[2]/div/div/div[2]/div/div/div/div[2]/div[2]/div[2]/div[1]/span[3]').get_attribute('innerHTML')\n",
      "/var/folders/bf/9616ns414yg2qn2p8czl2sr00000gn/T/ipykernel_13275/2397523523.py:47: DeprecationWarning: find_element_by_* commands are deprecated. Please use find_element() instead\n",
      "  driver.find_element_by_xpath('/html/body/div/div[1]/main/div/div[2]/div[1]/div[1]/ul/li[6]/a').click()\n",
      "/var/folders/bf/9616ns414yg2qn2p8czl2sr00000gn/T/ipykernel_13275/2397523523.py:49: DeprecationWarning: find_element_by_* commands are deprecated. Please use find_element() instead\n",
      "  driver.find_element_by_xpath('/html/body/div/div[1]/main/div/div[2]/div[1]/div[2]/div/form/div/div[1]/div/div/label').click()\n",
      "/var/folders/bf/9616ns414yg2qn2p8czl2sr00000gn/T/ipykernel_13275/2397523523.py:51: DeprecationWarning: find_element_by_* commands are deprecated. Please use find_element() instead\n",
      "  driver.find_element_by_xpath('/html/body/div/div[1]/main/div/div[2]/div[1]/div[2]/div/form/div/div[1]/div/div[2]/div/ul/li[3]/a/span').click()\n",
      "/var/folders/bf/9616ns414yg2qn2p8czl2sr00000gn/T/ipykernel_13275/2397523523.py:53: DeprecationWarning: find_element_by_* commands are deprecated. Please use find_element() instead\n",
      "  driver.find_element_by_xpath('/html/body/div/div[1]/main/div/div[2]/div[1]/div[2]/div/form/div/div[2]/div/div[2]/div/div[2]/div/div/div[2]/div[1]/div/span[26]').click()\n",
      "/var/folders/bf/9616ns414yg2qn2p8czl2sr00000gn/T/ipykernel_13275/2397523523.py:55: DeprecationWarning: find_element_by_* commands are deprecated. Please use find_element() instead\n",
      "  driver.find_element_by_xpath('/html/body/div/div[1]/main/div/div[2]/div[1]/div[2]/div/form/div/div[2]/div/div[2]/div/div[2]/div/div/div[2]/div[1]/div/span[28]').click()\n",
      "/var/folders/bf/9616ns414yg2qn2p8czl2sr00000gn/T/ipykernel_13275/2397523523.py:57: DeprecationWarning: find_element_by_* commands are deprecated. Please use find_element() instead\n",
      "  driver.find_element_by_xpath('/html/body/div/div[1]/main/div/div[2]/div[1]/div[2]/div/form/div/div[4]/button').click()\n",
      "/var/folders/bf/9616ns414yg2qn2p8czl2sr00000gn/T/ipykernel_13275/2397523523.py:60: DeprecationWarning: find_element_by_* commands are deprecated. Please use find_element() instead\n",
      "  driver.find_element_by_xpath('/html/body/div/div[1]/main/div/div/section/div[1]/ul/li[2]/a').click()\n",
      "/var/folders/bf/9616ns414yg2qn2p8czl2sr00000gn/T/ipykernel_13275/2397523523.py:63: DeprecationWarning: find_element_by_* commands are deprecated. Please use find_element() instead\n",
      "  cost_alibaba = driver.find_element_by_xpath('/html/body/div/div[1]/main/div/div/section/div[2]/div[1]/div[1]/div[1]/div[2]/div/div[2]/div[2]/span[2]/strong').get_attribute('innerHTML')\n"
     ]
    },
    {
     "name": "stdout",
     "output_type": "stream",
     "text": [
      "Flightio is cheaper\n"
     ]
    }
   ],
   "source": [
    "path_to_geckodriver = '/Users/ngn/geckodriver'\n",
    "service = Service(path_to_geckodriver)\n",
    "driver = Firefox(service=service)\n",
    "\n",
    "# navigate to Flightio\n",
    "driver.get(\"https://flightio.com\")\n",
    "time.sleep(1)\n",
    "\n",
    "# Click on Hotels\n",
    "driver.find_element_by_xpath(\"/html/body/main/div/div[2]/article/div[4]/div/div[2]/div[1]/div[3]/a\").click()\n",
    "time.sleep(1)\n",
    "# Open destination dropdown\n",
    "driver.find_element_by_xpath('//*[@id=\"hotel--input-focus-2--fc-input\"]').click()\n",
    "# Choose destination\n",
    "driver.find_element_by_xpath('/html/body/main/div/div[2]/article/div[4]/div/div[2]/div[2]/div/div/form/div[1]/div[1]/div/div/div/div/div[2]/div/ul/ul/li[3]/div/div[2]/label').click()\n",
    "# Open calender\n",
    "driver.find_element_by_xpath('//*[@id=\"startDate\"]').click()\n",
    "time.sleep(1)\n",
    "# Choose start date\n",
    "driver.find_element_by_xpath('/html/body/main/div/div[2]/article/div[4]/div/div[2]/div[2]/div/div/form/div[1]/div[2]/div/div/div/div/div[2]/div/div/div[1]/div[2]/div[2]/div/div[2]/div/table/tbody/tr[3]/td[5]/div/span').click()\n",
    "# Choose end date\n",
    "driver.find_element_by_xpath('/html/body/main/div/div[2]/article/div[4]/div/div[2]/div[2]/div/div/form/div[1]/div[2]/div/div/div/div/div[2]/div/div/div[1]/div[2]/div[2]/div/div[2]/div/table/tbody/tr[3]/td[7]/div/span').click()\n",
    "# Click on submit button\n",
    "driver.find_element_by_xpath('/html/body/main/div/div[2]/article/div[4]/div/div[2]/div[2]/div/div/form/div[1]/button/canvas').click()\n",
    "time.sleep(1)\n",
    "# Select filter\n",
    "driver.find_element_by_xpath('/html/body/main/div/div[2]/div/div[2]/div/div[2]/div/div/div[1]/div[2]/div/div[2]/div').click()\n",
    "time.sleep(1)\n",
    "# choose one\n",
    "driver.find_element_by_xpath('/html/body/div/div[3]/ul/li[2]').click()\n",
    "time.sleep(1)\n",
    "# Get the cost\n",
    "cost_flightio = driver.find_element_by_xpath('/html/body/main/div/div[2]/div/div[2]/div/div[2]/div/div/div[2]/div/div/div/div[2]/div[2]/div[2]/div[1]/span[3]').get_attribute('innerHTML')\n",
    "# cast to integer\n",
    "cost_flightio = int(cost_flightio.split(' ')[0].replace(',',''))\n",
    "\n",
    "\n",
    "\n",
    "\n",
    "\n",
    "# navigate to Alibaba\n",
    "driver.execute_script(\"window.open('');\")\n",
    "driver.switch_to.window(driver.window_handles[-1])\n",
    "driver.get('https://www.alibabatravels.co')\n",
    "time.sleep(1)\n",
    "# Hote; name\n",
    "driver.find_element_by_xpath('/html/body/div/div[1]/main/div/div[2]/div[1]/div[1]/ul/li[6]/a').click()\n",
    "# Open destination dropdown\n",
    "driver.find_element_by_xpath('/html/body/div/div[1]/main/div/div[2]/div[1]/div[2]/div/form/div/div[1]/div/div/label').click()\n",
    "# Choose destination\n",
    "driver.find_element_by_xpath('/html/body/div/div[1]/main/div/div[2]/div[1]/div[2]/div/form/div/div[1]/div/div[2]/div/ul/li[3]/a/span').click()\n",
    "# First date\n",
    "driver.find_element_by_xpath('/html/body/div/div[1]/main/div/div[2]/div[1]/div[2]/div/form/div/div[2]/div/div[2]/div/div[2]/div/div/div[2]/div[1]/div/span[26]').click()\n",
    "# Last date\n",
    "driver.find_element_by_xpath('/html/body/div/div[1]/main/div/div[2]/div[1]/div[2]/div/form/div/div[2]/div/div[2]/div/div[2]/div/div/div[2]/div[1]/div/span[28]').click()\n",
    "# submit button\n",
    "driver.find_element_by_xpath('/html/body/div/div[1]/main/div/div[2]/div[1]/div[2]/div/form/div/div[4]/button').click()\n",
    "time.sleep(3)\n",
    "# choose filter\n",
    "driver.find_element_by_xpath('/html/body/div/div[1]/main/div/div/section/div[1]/ul/li[2]/a').click()\n",
    "time.sleep(4)\n",
    "# cost alibaba\n",
    "cost_alibaba = driver.find_element_by_xpath('/html/body/div/div[1]/main/div/div/section/div[2]/div[1]/div[1]/div[1]/div[2]/div/div[2]/div[2]/span[2]/strong').get_attribute('innerHTML')\n",
    "cost_alibaba = int(cost_alibaba.replace(',',''))\n",
    "\n",
    "\n",
    "\n",
    "if cost_alibaba>cost_flightio:\n",
    "    print(\"Flightio is cheaper\")\n",
    "else:\n",
    "    print(\"Alibaba is cheaper\")\n",
    "driver.quit()"
   ]
  },
  {
   "cell_type": "markdown",
   "metadata": {},
   "source": [
    "# Scenario 3: Professors Fields"
   ]
  },
  {
   "cell_type": "code",
   "execution_count": 22,
   "metadata": {},
   "outputs": [
    {
     "name": "stderr",
     "output_type": "stream",
     "text": [
      "/var/folders/bf/9616ns414yg2qn2p8czl2sr00000gn/T/ipykernel_4134/1703412550.py:9: DeprecationWarning: find_element_by_* commands are deprecated. Please use find_element() instead\n",
      "  driver.find_element_by_css_selector('.dropbtn').click()\n",
      "/var/folders/bf/9616ns414yg2qn2p8czl2sr00000gn/T/ipykernel_4134/1703412550.py:11: DeprecationWarning: find_element_by_* commands are deprecated. Please use find_element() instead\n",
      "  driver.find_element_by_css_selector('.dropdown-links > a:nth-child(1)').click()\n"
     ]
    },
    {
     "ename": "NameError",
     "evalue": "name 'StaleElementReferenceException' is not defined",
     "output_type": "error",
     "traceback": [
      "\u001b[0;31m---------------------------------------------------------------------------\u001b[0m",
      "\u001b[0;31mStaleElementReferenceException\u001b[0m            Traceback (most recent call last)",
      "\u001b[1;32m/Users/ngn/Documents/uni/Term 8/TestNarm/Project/Test-automation/main.ipynb Cell 15\u001b[0m in \u001b[0;36m<cell line: 50>\u001b[0;34m()\u001b[0m\n\u001b[1;32m     <a href='vscode-notebook-cell:/Users/ngn/Documents/uni/Term%208/TestNarm/Project/Test-automation/main.ipynb#X22sZmlsZQ%3D%3D?line=50'>51</a>\u001b[0m \u001b[39mtry\u001b[39;00m:\n\u001b[1;32m     <a href='vscode-notebook-cell:/Users/ngn/Documents/uni/Term%208/TestNarm/Project/Test-automation/main.ipynb#X22sZmlsZQ%3D%3D?line=51'>52</a>\u001b[0m     \u001b[39m# Click on the child div\u001b[39;00m\n\u001b[0;32m---> <a href='vscode-notebook-cell:/Users/ngn/Documents/uni/Term%208/TestNarm/Project/Test-automation/main.ipynb#X22sZmlsZQ%3D%3D?line=52'>53</a>\u001b[0m     child_div\u001b[39m.\u001b[39;49mclick()\n\u001b[1;32m     <a href='vscode-notebook-cell:/Users/ngn/Documents/uni/Term%208/TestNarm/Project/Test-automation/main.ipynb#X22sZmlsZQ%3D%3D?line=54'>55</a>\u001b[0m     \u001b[39m# Wait for the new page to load (you may need to adjust the timeout)\u001b[39;00m\n",
      "File \u001b[0;32m/Library/Frameworks/Python.framework/Versions/3.8/lib/python3.8/site-packages/selenium/webdriver/remote/webelement.py:80\u001b[0m, in \u001b[0;36mWebElement.click\u001b[0;34m(self)\u001b[0m\n\u001b[1;32m     79\u001b[0m \u001b[39m\"\"\"Clicks the element.\"\"\"\u001b[39;00m\n\u001b[0;32m---> 80\u001b[0m \u001b[39mself\u001b[39;49m\u001b[39m.\u001b[39;49m_execute(Command\u001b[39m.\u001b[39;49mCLICK_ELEMENT)\n",
      "File \u001b[0;32m/Library/Frameworks/Python.framework/Versions/3.8/lib/python3.8/site-packages/selenium/webdriver/remote/webelement.py:693\u001b[0m, in \u001b[0;36mWebElement._execute\u001b[0;34m(self, command, params)\u001b[0m\n\u001b[1;32m    692\u001b[0m params[\u001b[39m'\u001b[39m\u001b[39mid\u001b[39m\u001b[39m'\u001b[39m] \u001b[39m=\u001b[39m \u001b[39mself\u001b[39m\u001b[39m.\u001b[39m_id\n\u001b[0;32m--> 693\u001b[0m \u001b[39mreturn\u001b[39;00m \u001b[39mself\u001b[39;49m\u001b[39m.\u001b[39;49m_parent\u001b[39m.\u001b[39;49mexecute(command, params)\n",
      "File \u001b[0;32m/Library/Frameworks/Python.framework/Versions/3.8/lib/python3.8/site-packages/selenium/webdriver/remote/webdriver.py:418\u001b[0m, in \u001b[0;36mWebDriver.execute\u001b[0;34m(self, driver_command, params)\u001b[0m\n\u001b[1;32m    417\u001b[0m \u001b[39mif\u001b[39;00m response:\n\u001b[0;32m--> 418\u001b[0m     \u001b[39mself\u001b[39;49m\u001b[39m.\u001b[39;49merror_handler\u001b[39m.\u001b[39;49mcheck_response(response)\n\u001b[1;32m    419\u001b[0m     response[\u001b[39m'\u001b[39m\u001b[39mvalue\u001b[39m\u001b[39m'\u001b[39m] \u001b[39m=\u001b[39m \u001b[39mself\u001b[39m\u001b[39m.\u001b[39m_unwrap_value(\n\u001b[1;32m    420\u001b[0m         response\u001b[39m.\u001b[39mget(\u001b[39m'\u001b[39m\u001b[39mvalue\u001b[39m\u001b[39m'\u001b[39m, \u001b[39mNone\u001b[39;00m))\n",
      "File \u001b[0;32m/Library/Frameworks/Python.framework/Versions/3.8/lib/python3.8/site-packages/selenium/webdriver/remote/errorhandler.py:243\u001b[0m, in \u001b[0;36mErrorHandler.check_response\u001b[0;34m(self, response)\u001b[0m\n\u001b[1;32m    242\u001b[0m     \u001b[39mraise\u001b[39;00m exception_class(message, screen, stacktrace, alert_text)  \u001b[39m# type: ignore[call-arg]  # mypy is not smart enough here\u001b[39;00m\n\u001b[0;32m--> 243\u001b[0m \u001b[39mraise\u001b[39;00m exception_class(message, screen, stacktrace)\n",
      "\u001b[0;31mStaleElementReferenceException\u001b[0m: Message: The element with the reference 5d68738a-a489-4d8c-b9b7-9ee906fe6682 is stale; either its node document is not the active document, or it is no longer connected to the DOM\nStacktrace:\nRemoteError@chrome://remote/content/shared/RemoteError.sys.mjs:8:8\nWebDriverError@chrome://remote/content/shared/webdriver/Errors.sys.mjs:183:5\nStaleElementReferenceError@chrome://remote/content/shared/webdriver/Errors.sys.mjs:495:5\nelement.getKnownElement@chrome://remote/content/marionette/element.sys.mjs:508:11\ndeserializeJSON@chrome://remote/content/marionette/json.sys.mjs:233:33\ncloneObject@chrome://remote/content/marionette/json.sys.mjs:56:24\ndeserializeJSON@chrome://remote/content/marionette/json.sys.mjs:244:16\njson.deserialize@chrome://remote/content/marionette/json.sys.mjs:248:10\nreceiveMessage@chrome://remote/content/marionette/actors/MarionetteCommandsChild.sys.mjs:85:30\n",
      "\nDuring handling of the above exception, another exception occurred:\n",
      "\u001b[0;31mNameError\u001b[0m                                 Traceback (most recent call last)",
      "\u001b[1;32m/Users/ngn/Documents/uni/Term 8/TestNarm/Project/Test-automation/main.ipynb Cell 15\u001b[0m in \u001b[0;36m<cell line: 50>\u001b[0;34m()\u001b[0m\n\u001b[1;32m     <a href='vscode-notebook-cell:/Users/ngn/Documents/uni/Term%208/TestNarm/Project/Test-automation/main.ipynb#X22sZmlsZQ%3D%3D?line=69'>70</a>\u001b[0m     parent_div \u001b[39m=\u001b[39m WebDriverWait(driver, \u001b[39m10\u001b[39m)\u001b[39m.\u001b[39muntil(EC\u001b[39m.\u001b[39mvisibility_of_element_located((By\u001b[39m.\u001b[39mCSS_SELECTOR, \u001b[39m\"\u001b[39m\u001b[39mdiv.row:nth-child(2)\u001b[39m\u001b[39m\"\u001b[39m)))\n\u001b[1;32m     <a href='vscode-notebook-cell:/Users/ngn/Documents/uni/Term%208/TestNarm/Project/Test-automation/main.ipynb#X22sZmlsZQ%3D%3D?line=70'>71</a>\u001b[0m     child_divs \u001b[39m=\u001b[39m parent_div\u001b[39m.\u001b[39mfind_elements(By\u001b[39m.\u001b[39mTAG_NAME, \u001b[39m\"\u001b[39m\u001b[39mdiv\u001b[39m\u001b[39m\"\u001b[39m)\n\u001b[0;32m---> <a href='vscode-notebook-cell:/Users/ngn/Documents/uni/Term%208/TestNarm/Project/Test-automation/main.ipynb#X22sZmlsZQ%3D%3D?line=72'>73</a>\u001b[0m \u001b[39mexcept\u001b[39;00m StaleElementReferenceException:\n\u001b[1;32m     <a href='vscode-notebook-cell:/Users/ngn/Documents/uni/Term%208/TestNarm/Project/Test-automation/main.ipynb#X22sZmlsZQ%3D%3D?line=73'>74</a>\u001b[0m     \u001b[39m# Handle StaleElementReferenceException by re-finding the parent div and child divs\u001b[39;00m\n\u001b[1;32m     <a href='vscode-notebook-cell:/Users/ngn/Documents/uni/Term%208/TestNarm/Project/Test-automation/main.ipynb#X22sZmlsZQ%3D%3D?line=74'>75</a>\u001b[0m     parent_div \u001b[39m=\u001b[39m WebDriverWait(driver, \u001b[39m10\u001b[39m)\u001b[39m.\u001b[39muntil(EC\u001b[39m.\u001b[39mvisibility_of_element_located((By\u001b[39m.\u001b[39mCSS_SELECTOR, \u001b[39m\"\u001b[39m\u001b[39mdiv.row:nth-child(2)\u001b[39m\u001b[39m\"\u001b[39m)))\n\u001b[1;32m     <a href='vscode-notebook-cell:/Users/ngn/Documents/uni/Term%208/TestNarm/Project/Test-automation/main.ipynb#X22sZmlsZQ%3D%3D?line=75'>76</a>\u001b[0m     child_divs \u001b[39m=\u001b[39m parent_div\u001b[39m.\u001b[39mfind_elements(By\u001b[39m.\u001b[39mTAG_NAME, \u001b[39m\"\u001b[39m\u001b[39mdiv\u001b[39m\u001b[39m\"\u001b[39m)\n",
      "\u001b[0;31mNameError\u001b[0m: name 'StaleElementReferenceException' is not defined"
     ]
    }
   ],
   "source": [
    "\n",
    "path_to_geckodriver = '/Users/ngn/geckodriver'\n",
    "service = Service(path_to_geckodriver)\n",
    "driver = Firefox(service=service)\n",
    "\n",
    "# navigate to SBU\n",
    "driver.get(\"https://cse.sbu.ac.ir/faculty-list\")\n",
    "time.sleep(1)\n",
    "\n",
    "driver.find_element_by_css_selector('.dropbtn').click()\n",
    "\n",
    "driver.find_element_by_css_selector('.dropdown-links > a:nth-child(1)').click()\n",
    "time.sleep(2)\n",
    "\n",
    "\n",
    "# Find the parent div with CSS selector \"div.row:nth-child(2)\"\n",
    "parent_div = driver.find_element(By.CSS_SELECTOR, \"div.row:nth-child(2)\")\n",
    "\n",
    "# Find all child div elements within the parent div\n",
    "child_divs = parent_div.find_elements(By.TAG_NAME, \"div\")\n",
    "\n",
    "\n",
    "\n",
    "# # Loop through each child div\n",
    "# for child_div in child_divs:\n",
    "#     # Click on the child div\n",
    "#     child_div.click()\n",
    "    \n",
    "#     # Wait for the new page to load (you may need to adjust the timeout)\n",
    "#     WebDriverWait(driver, 10).until(EC.url_changes(driver.current_url))\n",
    "    \n",
    "#     # Find all span elements with the class name \"tag\"\n",
    "#     tag_spans = driver.find_elements(By.CSS_SELECTOR, \"span.tag\")\n",
    "    \n",
    "#     # Store the inner HTML of each span in the DataFrame\n",
    "#     for tag_span in tag_spans:\n",
    "#         print(tag_span.get_attribute(\"innerHTML\"))\n",
    "    \n",
    "#     # Go back to the previous page\n",
    "#     driver.back()\n",
    "\n",
    "# # Print the DataFrame\n",
    "\n",
    "# Find all child div elements within the parent div\n",
    "child_divs = parent_div.find_elements(By.TAG_NAME, \"div\")\n",
    "\n",
    "# Create an empty list to store the data\n",
    "data = []\n",
    "\n",
    "# Loop through each child div\n",
    "for index, child_div in enumerate(child_divs):\n",
    "    try:\n",
    "        # Click on the child div\n",
    "        child_div.click()\n",
    "\n",
    "        # Wait for the new page to load (you may need to adjust the timeout)\n",
    "        WebDriverWait(driver, 10).until(EC.url_changes(driver.current_url))\n",
    "        WebDriverWait(driver, 10).until(EC.visibility_of_element_located((By.CSS_SELECTOR, \"span.tag\")))\n",
    "\n",
    "        # Find all span elements with the class name \"tag\"\n",
    "        tag_spans = driver.find_elements(By.CSS_SELECTOR, \"span.tag\")\n",
    "\n",
    "        # Store the inner HTML of each span in the list\n",
    "        for tag_span in tag_spans:\n",
    "            data.append(tag_span.get_attribute(\"innerHTML\"))\n",
    "\n",
    "        # Go back to the previous page\n",
    "        driver.back()\n",
    "\n",
    "        # Re-find the parent div and child divs\n",
    "        parent_div = WebDriverWait(driver, 10).until(EC.visibility_of_element_located((By.CSS_SELECTOR, \"div.row:nth-child(2)\")))\n",
    "        child_divs = parent_div.find_elements(By.TAG_NAME, \"div\")\n",
    "\n",
    "    except StaleElementReferenceException:\n",
    "        # Handle StaleElementReferenceException by re-finding the parent div and child divs\n",
    "        parent_div = WebDriverWait(driver, 10).until(EC.visibility_of_element_located((By.CSS_SELECTOR, \"div.row:nth-child(2)\")))\n",
    "        child_divs = parent_div.find_elements(By.TAG_NAME, \"div\")\n",
    "        # Continue with the loop\n",
    "        continue\n",
    "\n",
    "\n",
    "\n",
    "\n",
    "\n"
   ]
  },
  {
   "cell_type": "code",
   "execution_count": 20,
   "metadata": {},
   "outputs": [],
   "source": [
    "driver.quit()"
   ]
  },
  {
   "cell_type": "code",
   "execution_count": 9,
   "metadata": {},
   "outputs": [
    {
     "name": "stdout",
     "output_type": "stream",
     "text": [
      "<selenium.webdriver.remote.webelement.WebElement (session=\"c8cdf2c8-398b-48dc-a9c8-d345da9acc5e\", element=\"9c6f0d6b-129e-4d78-89ec-f1ca54ecc8a8\")>\n"
     ]
    },
    {
     "name": "stderr",
     "output_type": "stream",
     "text": [
      "/var/folders/bf/9616ns414yg2qn2p8czl2sr00000gn/T/ipykernel_4134/2840468677.py:1: DeprecationWarning: find_element_by_* commands are deprecated. Please use find_element() instead\n",
      "  x = driver.find_element_by_class_name(\"tag\")\n"
     ]
    }
   ],
   "source": [
    "x = driver.find_element_by_class_name(\"tag\")\n",
    "print(x)"
   ]
  },
  {
   "cell_type": "code",
   "execution_count": 10,
   "metadata": {},
   "outputs": [
    {
     "name": "stdout",
     "output_type": "stream",
     "text": [
      "['طراحی تراشه های زیستی', ' امنیت سخت افزار']\n"
     ]
    },
    {
     "name": "stderr",
     "output_type": "stream",
     "text": [
      "/var/folders/bf/9616ns414yg2qn2p8czl2sr00000gn/T/ipykernel_4134/656211630.py:1: DeprecationWarning: find_elements_by_* commands are deprecated. Please use find_elements() instead\n",
      "  tag_spans = driver.find_elements_by_css_selector(\"span.tag\")\n"
     ]
    }
   ],
   "source": [
    "tag_spans = driver.find_elements_by_css_selector(\"span.tag\")\n",
    "\n",
    "# Store the inner HTML of each <span> in a list\n",
    "inner_html_list = [span.get_attribute(\"innerHTML\") for span in tag_spans]\n",
    "\n",
    "# Print the inner HTML list\n",
    "print(inner_html_list)"
   ]
  },
  {
   "cell_type": "code",
   "execution_count": 11,
   "metadata": {},
   "outputs": [],
   "source": [
    "driver.back()"
   ]
  },
  {
   "cell_type": "code",
   "execution_count": null,
   "metadata": {},
   "outputs": [],
   "source": []
  }
 ],
 "metadata": {
  "kernelspec": {
   "display_name": "Python 3.8.5 64-bit",
   "language": "python",
   "name": "python3"
  },
  "language_info": {
   "codemirror_mode": {
    "name": "ipython",
    "version": 3
   },
   "file_extension": ".py",
   "mimetype": "text/x-python",
   "name": "python",
   "nbconvert_exporter": "python",
   "pygments_lexer": "ipython3",
   "version": "3.8.5"
  },
  "orig_nbformat": 4,
  "vscode": {
   "interpreter": {
    "hash": "0adcc2737ebf6a4a119f135174df96668767fca1ef1112612db5ecadf2b6d608"
   }
  }
 },
 "nbformat": 4,
 "nbformat_minor": 2
}
